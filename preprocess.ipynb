{
 "cells": [
  {
   "cell_type": "markdown",
   "id": "4ae2c543",
   "metadata": {},
   "source": [
    "# 데이터 불러오기"
   ]
  },
  {
   "cell_type": "markdown",
   "id": "73d100b4",
   "metadata": {},
   "source": [
    "## 브런치 데이터 불러오기"
   ]
  },
  {
   "cell_type": "code",
   "execution_count": 1,
   "id": "6371bf3d",
   "metadata": {},
   "outputs": [],
   "source": [
    "import pandas as pd\n",
    "import pickle\n",
    "\n",
    "with open(\"./data/result_2.pickle\", 'rb') as f:\n",
    "    result_2 = pickle.load(f)\n",
    "df_2 = pd.DataFrame(result_2)\n",
    "\n",
    "with open(\"./data/result_3_end.pickle\", 'rb') as f:\n",
    "    result_3 = pickle.load(f)\n",
    "df_3 = pd.DataFrame(result_3)\n",
    "\n",
    "df_4 = pd.read_csv(\"./data/result_4.csv\")\n",
    "df_6 = pd.read_csv(\"./data/result_6.csv\")\n",
    "df_9 = pd.read_csv(\"./data/result_9_previous.csv\")\n",
    "df_12 = pd.read_csv(\"./data/result_12.csv\")\n",
    "df_13 = pd.read_csv(\"./data/result_13.csv\")"
   ]
  },
  {
   "cell_type": "code",
   "execution_count": 3,
   "id": "a4fa961a",
   "metadata": {},
   "outputs": [],
   "source": [
    "# 브런치 데이터 중복 제거 및 지문 중 누락값이 포함된 행 제거\n",
    "def basic_preprocess(df):\n",
    "    df.drop_duplicates('context', inplace=True)\n",
    "    df.dropna(subset=['context'], inplace=True)\n",
    "    return df\n",
    "\n",
    "df_2 = basic_preprocess(df_2)\n",
    "df_3 = basic_preprocess(df_3)\n",
    "df_4 = basic_preprocess(df_4)\n",
    "df_6 = basic_preprocess(df_6)\n",
    "df_9 = basic_preprocess(df_9)\n",
    "df_12 = basic_preprocess(df_12)\n",
    "df_13 = basic_preprocess(df_13)"
   ]
  },
  {
   "cell_type": "code",
   "execution_count": 4,
   "id": "b7dafc5d",
   "metadata": {},
   "outputs": [],
   "source": [
    "'''\n",
    "{\"일상\":1, \"에세이\":2, \"감성에세이\":3, \"일상에세이\":4, \"감성\":5, \"수필\":6,\n",
    " \"감성글\":7, \"사진에세이\":8, \"산문\":9, \"포토에세이\":10, \"감성일기\":11, \"산문집\":12, \"힐링에세이\":13}\n",
    "'''\n",
    "\n",
    "# 스크래핑한 데이터 항목 확인 및 불러온 브런치 데이터 병합\n",
    "df_all = pd.concat([df_2, df_3, df_4, df_6, df_9, df_12, df_13])"
   ]
  },
  {
   "cell_type": "code",
   "execution_count": 5,
   "id": "fc0f2eee",
   "metadata": {},
   "outputs": [
    {
     "data": {
      "text/html": [
       "<div>\n",
       "<style scoped>\n",
       "    .dataframe tbody tr th:only-of-type {\n",
       "        vertical-align: middle;\n",
       "    }\n",
       "\n",
       "    .dataframe tbody tr th {\n",
       "        vertical-align: top;\n",
       "    }\n",
       "\n",
       "    .dataframe thead th {\n",
       "        text-align: right;\n",
       "    }\n",
       "</style>\n",
       "<table border=\"1\" class=\"dataframe\">\n",
       "  <thead>\n",
       "    <tr style=\"text-align: right;\">\n",
       "      <th></th>\n",
       "      <th>title</th>\n",
       "      <th>context</th>\n",
       "    </tr>\n",
       "  </thead>\n",
       "  <tbody>\n",
       "    <tr>\n",
       "      <th>0</th>\n",
       "      <td>#1 괴물 신인이라 부르기로 하였어요.</td>\n",
       "      <td>그러니까 때는 바야흐로 9월 말.\\n\\n\\n 할 일 없이 인스타를 눈팅하고 있었던...</td>\n",
       "    </tr>\n",
       "    <tr>\n",
       "      <th>1</th>\n",
       "      <td>NaN</td>\n",
       "      <td>나약했던 내가 했었던 당시의 숱한 방황들과 어찌할 방도조차 몰라 손에 잡히면 잡히는...</td>\n",
       "    </tr>\n",
       "    <tr>\n",
       "      <th>2</th>\n",
       "      <td>NaN</td>\n",
       "      <td>Q. 당신은 더 나은 삶을 살기 위해 어떤 노력을 하고 있나요?\\n\\nA: 저는 요...</td>\n",
       "    </tr>\n",
       "    <tr>\n",
       "      <th>3</th>\n",
       "      <td>사람이 100명이면 여행도 100가지</td>\n",
       "      <td>워털루역으로 가는 길은 시끌벅적했다. 당연했다. 토요일 저녁이었으니까. \\n\\n길가...</td>\n",
       "    </tr>\n",
       "    <tr>\n",
       "      <th>4</th>\n",
       "      <td>클라이밍, 도파민</td>\n",
       "      <td>1.\\n\\n운동을 좋아하지 않는다……. \\n아니다, 운동도 안 좋아하지만 운동을 포...</td>\n",
       "    </tr>\n",
       "    <tr>\n",
       "      <th>...</th>\n",
       "      <td>...</td>\n",
       "      <td>...</td>\n",
       "    </tr>\n",
       "    <tr>\n",
       "      <th>23403</th>\n",
       "      <td>[레슨 3] 백핸드 스트로크를 배우다</td>\n",
       "      <td>“보경 씨, 테니스를 치면 포핸드가 80, 백핸드가 20이야. 그만큼 많이 안 쓴다...</td>\n",
       "    </tr>\n",
       "    <tr>\n",
       "      <th>23404</th>\n",
       "      <td>매일매일 먹고 살기. 7월 넷째 주</td>\n",
       "      <td>재택근무가 많은 주여서 아침도 챙겨 먹고 간식 비중도 어마어마했다. \\n\\n1. 월...</td>\n",
       "    </tr>\n",
       "    <tr>\n",
       "      <th>23405</th>\n",
       "      <td>코로나와 립스틱</td>\n",
       "      <td>길기도 긴 코로나 시대에 우린\\n\"언젠간 끝나겠지\"란 막연한 생각으로 하루하루를 보...</td>\n",
       "    </tr>\n",
       "    <tr>\n",
       "      <th>23406</th>\n",
       "      <td>의연한 마음을 갖고 싶다.</td>\n",
       "      <td>의연한 마음을 갖고 싶다.\\n\\n'의연하다'의 사전적 정의는 한자어에 따라 다르다....</td>\n",
       "    </tr>\n",
       "    <tr>\n",
       "      <th>23407</th>\n",
       "      <td>배웅이 주는 유익</td>\n",
       "      <td>사람 말로 “잘 다녀와” 하고 표현 못해도, 온몸으로 표현하는 배웅.\\n\\n신발...</td>\n",
       "    </tr>\n",
       "  </tbody>\n",
       "</table>\n",
       "<p>35788 rows × 2 columns</p>\n",
       "</div>"
      ],
      "text/plain": [
       "                       title  \\\n",
       "0      #1 괴물 신인이라 부르기로 하였어요.   \n",
       "1                        NaN   \n",
       "2                        NaN   \n",
       "3       사람이 100명이면 여행도 100가지   \n",
       "4                  클라이밍, 도파민   \n",
       "...                      ...   \n",
       "23403   [레슨 3] 백핸드 스트로크를 배우다   \n",
       "23404    매일매일 먹고 살기. 7월 넷째 주   \n",
       "23405               코로나와 립스틱   \n",
       "23406         의연한 마음을 갖고 싶다.   \n",
       "23407              배웅이 주는 유익   \n",
       "\n",
       "                                                 context  \n",
       "0       그러니까 때는 바야흐로 9월 말.\\n\\n\\n 할 일 없이 인스타를 눈팅하고 있었던...  \n",
       "1      나약했던 내가 했었던 당시의 숱한 방황들과 어찌할 방도조차 몰라 손에 잡히면 잡히는...  \n",
       "2      Q. 당신은 더 나은 삶을 살기 위해 어떤 노력을 하고 있나요?\\n\\nA: 저는 요...  \n",
       "3      워털루역으로 가는 길은 시끌벅적했다. 당연했다. 토요일 저녁이었으니까. \\n\\n길가...  \n",
       "4      1.\\n\\n운동을 좋아하지 않는다……. \\n아니다, 운동도 안 좋아하지만 운동을 포...  \n",
       "...                                                  ...  \n",
       "23403  “보경 씨, 테니스를 치면 포핸드가 80, 백핸드가 20이야. 그만큼 많이 안 쓴다...  \n",
       "23404  재택근무가 많은 주여서 아침도 챙겨 먹고 간식 비중도 어마어마했다. \\n\\n1. 월...  \n",
       "23405  길기도 긴 코로나 시대에 우린\\n\"언젠간 끝나겠지\"란 막연한 생각으로 하루하루를 보...  \n",
       "23406  의연한 마음을 갖고 싶다.\\n\\n'의연하다'의 사전적 정의는 한자어에 따라 다르다....  \n",
       "23407    사람 말로 “잘 다녀와” 하고 표현 못해도, 온몸으로 표현하는 배웅.\\n\\n신발...  \n",
       "\n",
       "[35788 rows x 2 columns]"
      ]
     },
     "execution_count": 5,
     "metadata": {},
     "output_type": "execute_result"
    }
   ],
   "source": [
    "# 병합된 데이터 확인\n",
    "df_all"
   ]
  },
  {
   "cell_type": "code",
   "execution_count": 44,
   "id": "78c5078d",
   "metadata": {},
   "outputs": [
    {
     "data": {
      "text/html": [
       "<div>\n",
       "<style scoped>\n",
       "    .dataframe tbody tr th:only-of-type {\n",
       "        vertical-align: middle;\n",
       "    }\n",
       "\n",
       "    .dataframe tbody tr th {\n",
       "        vertical-align: top;\n",
       "    }\n",
       "\n",
       "    .dataframe thead th {\n",
       "        text-align: right;\n",
       "    }\n",
       "</style>\n",
       "<table border=\"1\" class=\"dataframe\">\n",
       "  <thead>\n",
       "    <tr style=\"text-align: right;\">\n",
       "      <th></th>\n",
       "      <th>title</th>\n",
       "      <th>context</th>\n",
       "    </tr>\n",
       "  </thead>\n",
       "  <tbody>\n",
       "    <tr>\n",
       "      <th>0</th>\n",
       "      <td>#1 괴물 신인이라 부르기로 하였어요.</td>\n",
       "      <td>그러니까 때는 바야흐로 9월 말.\\n\\n\\n 할 일 없이 인스타를 눈팅하고 있었던...</td>\n",
       "    </tr>\n",
       "    <tr>\n",
       "      <th>1</th>\n",
       "      <td>NaN</td>\n",
       "      <td>나약했던 내가 했었던 당시의 숱한 방황들과 어찌할 방도조차 몰라 손에 잡히면 잡히는...</td>\n",
       "    </tr>\n",
       "    <tr>\n",
       "      <th>5</th>\n",
       "      <td>자유와 상생의 세상을 꿈꾸며</td>\n",
       "      <td>‘글이 작품이 되는 공간, 브런치’에 신참 작가로 발을 들였다. 오프라인 세상...</td>\n",
       "    </tr>\n",
       "    <tr>\n",
       "      <th>6</th>\n",
       "      <td>네가 흡연자라도 상관없어.</td>\n",
       "      <td>단언컨대 겨울은 완벽한 흡연의 계절이다. 내 입에서 뿜어져 나오는 것이 입김일까 ...</td>\n",
       "    </tr>\n",
       "    <tr>\n",
       "      <th>9</th>\n",
       "      <td>돈까스의 계절</td>\n",
       "      <td>며칠 전, 첫눈이 내렸다.\\n원래 가을이 이다지도 짧았었나? \\n정말이지 '봄, 여...</td>\n",
       "    </tr>\n",
       "    <tr>\n",
       "      <th>...</th>\n",
       "      <td>...</td>\n",
       "      <td>...</td>\n",
       "    </tr>\n",
       "    <tr>\n",
       "      <th>23388</th>\n",
       "      <td>[휘케치북] 21.08.03</td>\n",
       "      <td>‘Stuck On You - Meiko’\\n\\n기분이 좋아지는 곡입니다.\\n늘 그렇...</td>\n",
       "    </tr>\n",
       "    <tr>\n",
       "      <th>23390</th>\n",
       "      <td>원고료 수백만 원을 괜히 준다는 게 아니었어</td>\n",
       "      <td>원고료 수백만 원을 괜히 준다는 게 아니었어\\n\\n\\n\\n\\n\\n\\n\\n\\n\\n과거...</td>\n",
       "    </tr>\n",
       "    <tr>\n",
       "      <th>23394</th>\n",
       "      <td>공간에 음악은 왜 중요할까.</td>\n",
       "      <td>모든 소리는 우리의 이성과 감성적인 판단에 영향을 미친다. 나무 두드리는 소리, 세...</td>\n",
       "    </tr>\n",
       "    <tr>\n",
       "      <th>23401</th>\n",
       "      <td>[에세이] 항구의 온도</td>\n",
       "      <td>그와 나는 소렌토의 해변을 말없이 걸었다. 우리의 목적지는 작별이었다.      \\...</td>\n",
       "    </tr>\n",
       "    <tr>\n",
       "      <th>23404</th>\n",
       "      <td>매일매일 먹고 살기. 7월 넷째 주</td>\n",
       "      <td>재택근무가 많은 주여서 아침도 챙겨 먹고 간식 비중도 어마어마했다. \\n\\n1. 월...</td>\n",
       "    </tr>\n",
       "  </tbody>\n",
       "</table>\n",
       "<p>13370 rows × 2 columns</p>\n",
       "</div>"
      ],
      "text/plain": [
       "                          title  \\\n",
       "0         #1 괴물 신인이라 부르기로 하였어요.   \n",
       "1                           NaN   \n",
       "5               자유와 상생의 세상을 꿈꾸며   \n",
       "6                네가 흡연자라도 상관없어.   \n",
       "9                       돈까스의 계절   \n",
       "...                         ...   \n",
       "23388           [휘케치북] 21.08.03   \n",
       "23390  원고료 수백만 원을 괜히 준다는 게 아니었어   \n",
       "23394           공간에 음악은 왜 중요할까.   \n",
       "23401              [에세이] 항구의 온도   \n",
       "23404       매일매일 먹고 살기. 7월 넷째 주   \n",
       "\n",
       "                                                 context  \n",
       "0       그러니까 때는 바야흐로 9월 말.\\n\\n\\n 할 일 없이 인스타를 눈팅하고 있었던...  \n",
       "1      나약했던 내가 했었던 당시의 숱한 방황들과 어찌할 방도조차 몰라 손에 잡히면 잡히는...  \n",
       "5         ‘글이 작품이 되는 공간, 브런치’에 신참 작가로 발을 들였다. 오프라인 세상...  \n",
       "6       단언컨대 겨울은 완벽한 흡연의 계절이다. 내 입에서 뿜어져 나오는 것이 입김일까 ...  \n",
       "9      며칠 전, 첫눈이 내렸다.\\n원래 가을이 이다지도 짧았었나? \\n정말이지 '봄, 여...  \n",
       "...                                                  ...  \n",
       "23388  ‘Stuck On You - Meiko’\\n\\n기분이 좋아지는 곡입니다.\\n늘 그렇...  \n",
       "23390  원고료 수백만 원을 괜히 준다는 게 아니었어\\n\\n\\n\\n\\n\\n\\n\\n\\n\\n과거...  \n",
       "23394  모든 소리는 우리의 이성과 감성적인 판단에 영향을 미친다. 나무 두드리는 소리, 세...  \n",
       "23401  그와 나는 소렌토의 해변을 말없이 걸었다. 우리의 목적지는 작별이었다.      \\...  \n",
       "23404  재택근무가 많은 주여서 아침도 챙겨 먹고 간식 비중도 어마어마했다. \\n\\n1. 월...  \n",
       "\n",
       "[13370 rows x 2 columns]"
      ]
     },
     "execution_count": 44,
     "metadata": {},
     "output_type": "execute_result"
    }
   ],
   "source": [
    "# 대회 주제인 '함께'라는 단어를 포함한 데이터 확인\n",
    "df_all[df_all['context'].str.contains('함께')]"
   ]
  },
  {
   "cell_type": "markdown",
   "id": "082cfcba",
   "metadata": {},
   "source": [
    "## 글틴, 신춘문예, 정제된 브런치 데이터 불러오기"
   ]
  },
  {
   "cell_type": "markdown",
   "id": "4b6ee788",
   "metadata": {},
   "source": [
    "정제된 브런치 데이터는 브런치 사이트 내 브런치 북 탭에서 우수 작가의 글을 확인하고 작가 별 작품을 직접 수작업해 추출"
   ]
  },
  {
   "cell_type": "code",
   "execution_count": 6,
   "id": "0392a519",
   "metadata": {},
   "outputs": [],
   "source": [
    "data_train = pd.read_table(\"./data/small_dataset_train.txt\", header=None, names=['text'])\n",
    "data_eval = pd.read_table(\"./data/small_dataset_valid.txt\", header=None, names=['text'])"
   ]
  },
  {
   "cell_type": "code",
   "execution_count": 7,
   "id": "d9d9afcf",
   "metadata": {},
   "outputs": [],
   "source": [
    "dataset = pd.concat([data_train, data_eval])"
   ]
  },
  {
   "cell_type": "code",
   "execution_count": 8,
   "id": "5d9ac20e",
   "metadata": {},
   "outputs": [
    {
     "data": {
      "text/html": [
       "<div>\n",
       "<style scoped>\n",
       "    .dataframe tbody tr th:only-of-type {\n",
       "        vertical-align: middle;\n",
       "    }\n",
       "\n",
       "    .dataframe tbody tr th {\n",
       "        vertical-align: top;\n",
       "    }\n",
       "\n",
       "    .dataframe thead th {\n",
       "        text-align: right;\n",
       "    }\n",
       "</style>\n",
       "<table border=\"1\" class=\"dataframe\">\n",
       "  <thead>\n",
       "    <tr style=\"text-align: right;\">\n",
       "      <th></th>\n",
       "      <th>text</th>\n",
       "    </tr>\n",
       "  </thead>\n",
       "  <tbody>\n",
       "    <tr>\n",
       "      <th>0</th>\n",
       "      <td>스물네 번째 마음, 환하다 금요일에는 문학 치료에 관한 인터뷰이로 모교를 방문했다....</td>\n",
       "    </tr>\n",
       "    <tr>\n",
       "      <th>1</th>\n",
       "      <td>별생각 없는 헤헤 실실 대학생으로 살다가 정신을 차려 보니 4학년이 코 앞이었다. ...</td>\n",
       "    </tr>\n",
       "    <tr>\n",
       "      <th>2</th>\n",
       "      <td>부족한 살림 어떻게든 펴보겠다고, 아버지와 어머니는 부리나케 돈벌이를 하러 다녔다....</td>\n",
       "    </tr>\n",
       "    <tr>\n",
       "      <th>3</th>\n",
       "      <td>망했다. UCC도 제출해야 해. 나는 한숨을 푹 쉬며 말했다. 반면 함께 공고 글을...</td>\n",
       "    </tr>\n",
       "    <tr>\n",
       "      <th>4</th>\n",
       "      <td>통유리창을 사이에 두고 모르는 여자가 전화기를 붙들고 울고 있었다. 여자의 젖은 눈...</td>\n",
       "    </tr>\n",
       "    <tr>\n",
       "      <th>...</th>\n",
       "      <td>...</td>\n",
       "    </tr>\n",
       "    <tr>\n",
       "      <th>25</th>\n",
       "      <td>동료가 퇴사했다. 3개월 인턴까지 합쳐도 1년이 채 안 되는 짧은 근무 기간이었다....</td>\n",
       "    </tr>\n",
       "    <tr>\n",
       "      <th>26</th>\n",
       "      <td>선생님, 이번 겨울 우리 시(市)에는 유달리 눈이 잘 오지 않았습니다. 그러나 아랑...</td>\n",
       "    </tr>\n",
       "    <tr>\n",
       "      <th>27</th>\n",
       "      <td>과거는 이미 지나갔다는 말에 고개를 끄덕이면서도, 우리는 흔히 과거에서 벗어나지 못...</td>\n",
       "    </tr>\n",
       "    <tr>\n",
       "      <th>28</th>\n",
       "      <td>루와는 5 주년 하고 일주일 정도 더 사귄 뒤 헤어졌다. 그러니까 헤어짐을 각오한 ...</td>\n",
       "    </tr>\n",
       "    <tr>\n",
       "      <th>29</th>\n",
       "      <td>올해도 시작됐다. 햇살이 제법 봄 같았던 토요일 오후, 나보다 2년이나 어린 후배 ...</td>\n",
       "    </tr>\n",
       "  </tbody>\n",
       "</table>\n",
       "<p>382 rows × 1 columns</p>\n",
       "</div>"
      ],
      "text/plain": [
       "                                                 text\n",
       "0   스물네 번째 마음, 환하다 금요일에는 문학 치료에 관한 인터뷰이로 모교를 방문했다....\n",
       "1   별생각 없는 헤헤 실실 대학생으로 살다가 정신을 차려 보니 4학년이 코 앞이었다. ...\n",
       "2   부족한 살림 어떻게든 펴보겠다고, 아버지와 어머니는 부리나케 돈벌이를 하러 다녔다....\n",
       "3   망했다. UCC도 제출해야 해. 나는 한숨을 푹 쉬며 말했다. 반면 함께 공고 글을...\n",
       "4   통유리창을 사이에 두고 모르는 여자가 전화기를 붙들고 울고 있었다. 여자의 젖은 눈...\n",
       "..                                                ...\n",
       "25  동료가 퇴사했다. 3개월 인턴까지 합쳐도 1년이 채 안 되는 짧은 근무 기간이었다....\n",
       "26  선생님, 이번 겨울 우리 시(市)에는 유달리 눈이 잘 오지 않았습니다. 그러나 아랑...\n",
       "27  과거는 이미 지나갔다는 말에 고개를 끄덕이면서도, 우리는 흔히 과거에서 벗어나지 못...\n",
       "28  루와는 5 주년 하고 일주일 정도 더 사귄 뒤 헤어졌다. 그러니까 헤어짐을 각오한 ...\n",
       "29  올해도 시작됐다. 햇살이 제법 봄 같았던 토요일 오후, 나보다 2년이나 어린 후배 ...\n",
       "\n",
       "[382 rows x 1 columns]"
      ]
     },
     "execution_count": 8,
     "metadata": {},
     "output_type": "execute_result"
    }
   ],
   "source": [
    "dataset"
   ]
  },
  {
   "cell_type": "markdown",
   "id": "705641e7",
   "metadata": {},
   "source": [
    "# 간단한 데이터 확인"
   ]
  },
  {
   "cell_type": "code",
   "execution_count": 9,
   "id": "357c5966",
   "metadata": {},
   "outputs": [],
   "source": [
    "df_brunch = df_all.copy()\n",
    "df_annualspring = dataset.copy()"
   ]
  },
  {
   "cell_type": "code",
   "execution_count": 12,
   "id": "824e6358",
   "metadata": {},
   "outputs": [
    {
     "data": {
      "text/html": [
       "<div>\n",
       "<style scoped>\n",
       "    .dataframe tbody tr th:only-of-type {\n",
       "        vertical-align: middle;\n",
       "    }\n",
       "\n",
       "    .dataframe tbody tr th {\n",
       "        vertical-align: top;\n",
       "    }\n",
       "\n",
       "    .dataframe thead th {\n",
       "        text-align: right;\n",
       "    }\n",
       "</style>\n",
       "<table border=\"1\" class=\"dataframe\">\n",
       "  <thead>\n",
       "    <tr style=\"text-align: right;\">\n",
       "      <th></th>\n",
       "      <th>title</th>\n",
       "      <th>context</th>\n",
       "    </tr>\n",
       "  </thead>\n",
       "  <tbody>\n",
       "    <tr>\n",
       "      <th>0</th>\n",
       "      <td>#1 괴물 신인이라 부르기로 하였어요.</td>\n",
       "      <td>그러니까 때는 바야흐로 9월 말.\\n\\n\\n 할 일 없이 인스타를 눈팅하고 있었던...</td>\n",
       "    </tr>\n",
       "    <tr>\n",
       "      <th>1</th>\n",
       "      <td>NaN</td>\n",
       "      <td>나약했던 내가 했었던 당시의 숱한 방황들과 어찌할 방도조차 몰라 손에 잡히면 잡히는...</td>\n",
       "    </tr>\n",
       "    <tr>\n",
       "      <th>2</th>\n",
       "      <td>NaN</td>\n",
       "      <td>Q. 당신은 더 나은 삶을 살기 위해 어떤 노력을 하고 있나요?\\n\\nA: 저는 요...</td>\n",
       "    </tr>\n",
       "    <tr>\n",
       "      <th>3</th>\n",
       "      <td>사람이 100명이면 여행도 100가지</td>\n",
       "      <td>워털루역으로 가는 길은 시끌벅적했다. 당연했다. 토요일 저녁이었으니까. \\n\\n길가...</td>\n",
       "    </tr>\n",
       "    <tr>\n",
       "      <th>4</th>\n",
       "      <td>클라이밍, 도파민</td>\n",
       "      <td>1.\\n\\n운동을 좋아하지 않는다……. \\n아니다, 운동도 안 좋아하지만 운동을 포...</td>\n",
       "    </tr>\n",
       "    <tr>\n",
       "      <th>...</th>\n",
       "      <td>...</td>\n",
       "      <td>...</td>\n",
       "    </tr>\n",
       "    <tr>\n",
       "      <th>23401</th>\n",
       "      <td>[에세이] 항구의 온도</td>\n",
       "      <td>그와 나는 소렌토의 해변을 말없이 걸었다. 우리의 목적지는 작별이었다.      \\...</td>\n",
       "    </tr>\n",
       "    <tr>\n",
       "      <th>23404</th>\n",
       "      <td>매일매일 먹고 살기. 7월 넷째 주</td>\n",
       "      <td>재택근무가 많은 주여서 아침도 챙겨 먹고 간식 비중도 어마어마했다. \\n\\n1. 월...</td>\n",
       "    </tr>\n",
       "    <tr>\n",
       "      <th>23405</th>\n",
       "      <td>코로나와 립스틱</td>\n",
       "      <td>길기도 긴 코로나 시대에 우린\\n\"언젠간 끝나겠지\"란 막연한 생각으로 하루하루를 보...</td>\n",
       "    </tr>\n",
       "    <tr>\n",
       "      <th>23406</th>\n",
       "      <td>의연한 마음을 갖고 싶다.</td>\n",
       "      <td>의연한 마음을 갖고 싶다.\\n\\n'의연하다'의 사전적 정의는 한자어에 따라 다르다....</td>\n",
       "    </tr>\n",
       "    <tr>\n",
       "      <th>23407</th>\n",
       "      <td>배웅이 주는 유익</td>\n",
       "      <td>사람 말로 “잘 다녀와” 하고 표현 못해도, 온몸으로 표현하는 배웅.\\n\\n신발...</td>\n",
       "    </tr>\n",
       "  </tbody>\n",
       "</table>\n",
       "<p>29232 rows × 2 columns</p>\n",
       "</div>"
      ],
      "text/plain": [
       "                       title  \\\n",
       "0      #1 괴물 신인이라 부르기로 하였어요.   \n",
       "1                        NaN   \n",
       "2                        NaN   \n",
       "3       사람이 100명이면 여행도 100가지   \n",
       "4                  클라이밍, 도파민   \n",
       "...                      ...   \n",
       "23401           [에세이] 항구의 온도   \n",
       "23404    매일매일 먹고 살기. 7월 넷째 주   \n",
       "23405               코로나와 립스틱   \n",
       "23406         의연한 마음을 갖고 싶다.   \n",
       "23407              배웅이 주는 유익   \n",
       "\n",
       "                                                 context  \n",
       "0       그러니까 때는 바야흐로 9월 말.\\n\\n\\n 할 일 없이 인스타를 눈팅하고 있었던...  \n",
       "1      나약했던 내가 했었던 당시의 숱한 방황들과 어찌할 방도조차 몰라 손에 잡히면 잡히는...  \n",
       "2      Q. 당신은 더 나은 삶을 살기 위해 어떤 노력을 하고 있나요?\\n\\nA: 저는 요...  \n",
       "3      워털루역으로 가는 길은 시끌벅적했다. 당연했다. 토요일 저녁이었으니까. \\n\\n길가...  \n",
       "4      1.\\n\\n운동을 좋아하지 않는다……. \\n아니다, 운동도 안 좋아하지만 운동을 포...  \n",
       "...                                                  ...  \n",
       "23401  그와 나는 소렌토의 해변을 말없이 걸었다. 우리의 목적지는 작별이었다.      \\...  \n",
       "23404  재택근무가 많은 주여서 아침도 챙겨 먹고 간식 비중도 어마어마했다. \\n\\n1. 월...  \n",
       "23405  길기도 긴 코로나 시대에 우린\\n\"언젠간 끝나겠지\"란 막연한 생각으로 하루하루를 보...  \n",
       "23406  의연한 마음을 갖고 싶다.\\n\\n'의연하다'의 사전적 정의는 한자어에 따라 다르다....  \n",
       "23407    사람 말로 “잘 다녀와” 하고 표현 못해도, 온몸으로 표현하는 배웅.\\n\\n신발...  \n",
       "\n",
       "[29232 rows x 2 columns]"
      ]
     },
     "execution_count": 12,
     "metadata": {},
     "output_type": "execute_result"
    }
   ],
   "source": [
    "'''\n",
    "{\"일상\":1, \"에세이\":2, \"감성에세이\":3, \"일상에세이\":4, \"감성\":5, \"수필\":6,\n",
    " \"감성글\":7, \"사진에세이\":8, \"산문\":9, \"포토에세이\":10, \"감성일기\":11, \"산문집\":12, \"힐링에세이\":13}\n",
    "'''\n",
    "\n",
    "# 위 항목 별 스크래핑한 데이터 중 중복된 경우가 존재하여 다시 한번 중복 제거\n",
    "df_brunch.drop_duplicates('context', inplace=True)\n",
    "df_brunch"
   ]
  },
  {
   "cell_type": "code",
   "execution_count": 13,
   "id": "dd53ae0d",
   "metadata": {},
   "outputs": [
    {
     "data": {
      "text/html": [
       "<div>\n",
       "<style scoped>\n",
       "    .dataframe tbody tr th:only-of-type {\n",
       "        vertical-align: middle;\n",
       "    }\n",
       "\n",
       "    .dataframe tbody tr th {\n",
       "        vertical-align: top;\n",
       "    }\n",
       "\n",
       "    .dataframe thead th {\n",
       "        text-align: right;\n",
       "    }\n",
       "</style>\n",
       "<table border=\"1\" class=\"dataframe\">\n",
       "  <thead>\n",
       "    <tr style=\"text-align: right;\">\n",
       "      <th></th>\n",
       "      <th>text</th>\n",
       "      <th>context</th>\n",
       "    </tr>\n",
       "  </thead>\n",
       "  <tbody>\n",
       "    <tr>\n",
       "      <th>0</th>\n",
       "      <td>스물네 번째 마음, 환하다 금요일에는 문학 치료에 관한 인터뷰이로 모교를 방문했다....</td>\n",
       "      <td>스물네 번째 마음, 환하다 금요일에는 문학 치료에 관한 인터뷰이로 모교를 방문했다....</td>\n",
       "    </tr>\n",
       "    <tr>\n",
       "      <th>1</th>\n",
       "      <td>별생각 없는 헤헤 실실 대학생으로 살다가 정신을 차려 보니 4학년이 코 앞이었다. ...</td>\n",
       "      <td>별생각 없는 헤헤 실실 대학생으로 살다가 정신을 차려 보니 4학년이 코 앞이었다. ...</td>\n",
       "    </tr>\n",
       "    <tr>\n",
       "      <th>2</th>\n",
       "      <td>부족한 살림 어떻게든 펴보겠다고, 아버지와 어머니는 부리나케 돈벌이를 하러 다녔다....</td>\n",
       "      <td>부족한 살림 어떻게든 펴보겠다고, 아버지와 어머니는 부리나케 돈벌이를 하러 다녔다....</td>\n",
       "    </tr>\n",
       "    <tr>\n",
       "      <th>3</th>\n",
       "      <td>망했다. UCC도 제출해야 해. 나는 한숨을 푹 쉬며 말했다. 반면 함께 공고 글을...</td>\n",
       "      <td>망했다. UCC도 제출해야 해. 나는 한숨을 푹 쉬며 말했다. 반면 함께 공고 글을...</td>\n",
       "    </tr>\n",
       "    <tr>\n",
       "      <th>4</th>\n",
       "      <td>통유리창을 사이에 두고 모르는 여자가 전화기를 붙들고 울고 있었다. 여자의 젖은 눈...</td>\n",
       "      <td>통유리창을 사이에 두고 모르는 여자가 전화기를 붙들고 울고 있었다. 여자의 젖은 눈...</td>\n",
       "    </tr>\n",
       "    <tr>\n",
       "      <th>...</th>\n",
       "      <td>...</td>\n",
       "      <td>...</td>\n",
       "    </tr>\n",
       "    <tr>\n",
       "      <th>25</th>\n",
       "      <td>동료가 퇴사했다. 3개월 인턴까지 합쳐도 1년이 채 안 되는 짧은 근무 기간이었다....</td>\n",
       "      <td>동료가 퇴사했다. 3개월 인턴까지 합쳐도 1년이 채 안 되는 짧은 근무 기간이었다....</td>\n",
       "    </tr>\n",
       "    <tr>\n",
       "      <th>26</th>\n",
       "      <td>선생님, 이번 겨울 우리 시(市)에는 유달리 눈이 잘 오지 않았습니다. 그러나 아랑...</td>\n",
       "      <td>선생님, 이번 겨울 우리 시(市)에는 유달리 눈이 잘 오지 않았습니다. 그러나 아랑...</td>\n",
       "    </tr>\n",
       "    <tr>\n",
       "      <th>27</th>\n",
       "      <td>과거는 이미 지나갔다는 말에 고개를 끄덕이면서도, 우리는 흔히 과거에서 벗어나지 못...</td>\n",
       "      <td>과거는 이미 지나갔다는 말에 고개를 끄덕이면서도, 우리는 흔히 과거에서 벗어나지 못...</td>\n",
       "    </tr>\n",
       "    <tr>\n",
       "      <th>28</th>\n",
       "      <td>루와는 5 주년 하고 일주일 정도 더 사귄 뒤 헤어졌다. 그러니까 헤어짐을 각오한 ...</td>\n",
       "      <td>루와는 5 주년 하고 일주일 정도 더 사귄 뒤 헤어졌다. 그러니까 헤어짐을 각오한 ...</td>\n",
       "    </tr>\n",
       "    <tr>\n",
       "      <th>29</th>\n",
       "      <td>올해도 시작됐다. 햇살이 제법 봄 같았던 토요일 오후, 나보다 2년이나 어린 후배 ...</td>\n",
       "      <td>올해도 시작됐다. 햇살이 제법 봄 같았던 토요일 오후, 나보다 2년이나 어린 후배 ...</td>\n",
       "    </tr>\n",
       "  </tbody>\n",
       "</table>\n",
       "<p>382 rows × 2 columns</p>\n",
       "</div>"
      ],
      "text/plain": [
       "                                                 text  \\\n",
       "0   스물네 번째 마음, 환하다 금요일에는 문학 치료에 관한 인터뷰이로 모교를 방문했다....   \n",
       "1   별생각 없는 헤헤 실실 대학생으로 살다가 정신을 차려 보니 4학년이 코 앞이었다. ...   \n",
       "2   부족한 살림 어떻게든 펴보겠다고, 아버지와 어머니는 부리나케 돈벌이를 하러 다녔다....   \n",
       "3   망했다. UCC도 제출해야 해. 나는 한숨을 푹 쉬며 말했다. 반면 함께 공고 글을...   \n",
       "4   통유리창을 사이에 두고 모르는 여자가 전화기를 붙들고 울고 있었다. 여자의 젖은 눈...   \n",
       "..                                                ...   \n",
       "25  동료가 퇴사했다. 3개월 인턴까지 합쳐도 1년이 채 안 되는 짧은 근무 기간이었다....   \n",
       "26  선생님, 이번 겨울 우리 시(市)에는 유달리 눈이 잘 오지 않았습니다. 그러나 아랑...   \n",
       "27  과거는 이미 지나갔다는 말에 고개를 끄덕이면서도, 우리는 흔히 과거에서 벗어나지 못...   \n",
       "28  루와는 5 주년 하고 일주일 정도 더 사귄 뒤 헤어졌다. 그러니까 헤어짐을 각오한 ...   \n",
       "29  올해도 시작됐다. 햇살이 제법 봄 같았던 토요일 오후, 나보다 2년이나 어린 후배 ...   \n",
       "\n",
       "                                              context  \n",
       "0   스물네 번째 마음, 환하다 금요일에는 문학 치료에 관한 인터뷰이로 모교를 방문했다....  \n",
       "1   별생각 없는 헤헤 실실 대학생으로 살다가 정신을 차려 보니 4학년이 코 앞이었다. ...  \n",
       "2   부족한 살림 어떻게든 펴보겠다고, 아버지와 어머니는 부리나케 돈벌이를 하러 다녔다....  \n",
       "3   망했다. UCC도 제출해야 해. 나는 한숨을 푹 쉬며 말했다. 반면 함께 공고 글을...  \n",
       "4   통유리창을 사이에 두고 모르는 여자가 전화기를 붙들고 울고 있었다. 여자의 젖은 눈...  \n",
       "..                                                ...  \n",
       "25  동료가 퇴사했다. 3개월 인턴까지 합쳐도 1년이 채 안 되는 짧은 근무 기간이었다....  \n",
       "26  선생님, 이번 겨울 우리 시(市)에는 유달리 눈이 잘 오지 않았습니다. 그러나 아랑...  \n",
       "27  과거는 이미 지나갔다는 말에 고개를 끄덕이면서도, 우리는 흔히 과거에서 벗어나지 못...  \n",
       "28  루와는 5 주년 하고 일주일 정도 더 사귄 뒤 헤어졌다. 그러니까 헤어짐을 각오한 ...  \n",
       "29  올해도 시작됐다. 햇살이 제법 봄 같았던 토요일 오후, 나보다 2년이나 어린 후배 ...  \n",
       "\n",
       "[382 rows x 2 columns]"
      ]
     },
     "execution_count": 13,
     "metadata": {},
     "output_type": "execute_result"
    }
   ],
   "source": [
    "df_annualspring"
   ]
  },
  {
   "cell_type": "code",
   "execution_count": 14,
   "id": "52bef146",
   "metadata": {},
   "outputs": [
    {
     "data": {
      "text/html": [
       "<div>\n",
       "<style scoped>\n",
       "    .dataframe tbody tr th:only-of-type {\n",
       "        vertical-align: middle;\n",
       "    }\n",
       "\n",
       "    .dataframe tbody tr th {\n",
       "        vertical-align: top;\n",
       "    }\n",
       "\n",
       "    .dataframe thead th {\n",
       "        text-align: right;\n",
       "    }\n",
       "</style>\n",
       "<table border=\"1\" class=\"dataframe\">\n",
       "  <thead>\n",
       "    <tr style=\"text-align: right;\">\n",
       "      <th></th>\n",
       "      <th>context</th>\n",
       "    </tr>\n",
       "  </thead>\n",
       "  <tbody>\n",
       "    <tr>\n",
       "      <th>0</th>\n",
       "      <td>그러니까 때는 바야흐로 9월 말.\\n\\n\\n 할 일 없이 인스타를 눈팅하고 있었던...</td>\n",
       "    </tr>\n",
       "    <tr>\n",
       "      <th>1</th>\n",
       "      <td>나약했던 내가 했었던 당시의 숱한 방황들과 어찌할 방도조차 몰라 손에 잡히면 잡히는...</td>\n",
       "    </tr>\n",
       "    <tr>\n",
       "      <th>2</th>\n",
       "      <td>Q. 당신은 더 나은 삶을 살기 위해 어떤 노력을 하고 있나요?\\n\\nA: 저는 요...</td>\n",
       "    </tr>\n",
       "    <tr>\n",
       "      <th>3</th>\n",
       "      <td>워털루역으로 가는 길은 시끌벅적했다. 당연했다. 토요일 저녁이었으니까. \\n\\n길가...</td>\n",
       "    </tr>\n",
       "    <tr>\n",
       "      <th>4</th>\n",
       "      <td>1.\\n\\n운동을 좋아하지 않는다……. \\n아니다, 운동도 안 좋아하지만 운동을 포...</td>\n",
       "    </tr>\n",
       "    <tr>\n",
       "      <th>...</th>\n",
       "      <td>...</td>\n",
       "    </tr>\n",
       "    <tr>\n",
       "      <th>25</th>\n",
       "      <td>동료가 퇴사했다. 3개월 인턴까지 합쳐도 1년이 채 안 되는 짧은 근무 기간이었다....</td>\n",
       "    </tr>\n",
       "    <tr>\n",
       "      <th>26</th>\n",
       "      <td>선생님, 이번 겨울 우리 시(市)에는 유달리 눈이 잘 오지 않았습니다. 그러나 아랑...</td>\n",
       "    </tr>\n",
       "    <tr>\n",
       "      <th>27</th>\n",
       "      <td>과거는 이미 지나갔다는 말에 고개를 끄덕이면서도, 우리는 흔히 과거에서 벗어나지 못...</td>\n",
       "    </tr>\n",
       "    <tr>\n",
       "      <th>28</th>\n",
       "      <td>루와는 5 주년 하고 일주일 정도 더 사귄 뒤 헤어졌다. 그러니까 헤어짐을 각오한 ...</td>\n",
       "    </tr>\n",
       "    <tr>\n",
       "      <th>29</th>\n",
       "      <td>올해도 시작됐다. 햇살이 제법 봄 같았던 토요일 오후, 나보다 2년이나 어린 후배 ...</td>\n",
       "    </tr>\n",
       "  </tbody>\n",
       "</table>\n",
       "<p>29614 rows × 1 columns</p>\n",
       "</div>"
      ],
      "text/plain": [
       "                                              context\n",
       "0    그러니까 때는 바야흐로 9월 말.\\n\\n\\n 할 일 없이 인스타를 눈팅하고 있었던...\n",
       "1   나약했던 내가 했었던 당시의 숱한 방황들과 어찌할 방도조차 몰라 손에 잡히면 잡히는...\n",
       "2   Q. 당신은 더 나은 삶을 살기 위해 어떤 노력을 하고 있나요?\\n\\nA: 저는 요...\n",
       "3   워털루역으로 가는 길은 시끌벅적했다. 당연했다. 토요일 저녁이었으니까. \\n\\n길가...\n",
       "4   1.\\n\\n운동을 좋아하지 않는다……. \\n아니다, 운동도 안 좋아하지만 운동을 포...\n",
       "..                                                ...\n",
       "25  동료가 퇴사했다. 3개월 인턴까지 합쳐도 1년이 채 안 되는 짧은 근무 기간이었다....\n",
       "26  선생님, 이번 겨울 우리 시(市)에는 유달리 눈이 잘 오지 않았습니다. 그러나 아랑...\n",
       "27  과거는 이미 지나갔다는 말에 고개를 끄덕이면서도, 우리는 흔히 과거에서 벗어나지 못...\n",
       "28  루와는 5 주년 하고 일주일 정도 더 사귄 뒤 헤어졌다. 그러니까 헤어짐을 각오한 ...\n",
       "29  올해도 시작됐다. 햇살이 제법 봄 같았던 토요일 오후, 나보다 2년이나 어린 후배 ...\n",
       "\n",
       "[29614 rows x 1 columns]"
      ]
     },
     "execution_count": 14,
     "metadata": {},
     "output_type": "execute_result"
    }
   ],
   "source": [
    "# 브런치 데이터와 글틴, 신춘문예, 정제된 브런치 데이터 병합\n",
    "df_annualspring['context'] = df_annualspring['text']\n",
    "df_all = pd.concat([df_brunch.drop('title', axis=1), df_annualspring.drop('text', axis=1)])\n",
    "\n",
    "df_all"
   ]
  },
  {
   "cell_type": "code",
   "execution_count": 15,
   "id": "160a645f",
   "metadata": {},
   "outputs": [
    {
     "data": {
      "text/plain": [
       "Text(0.5, 1.0, 'brunch')"
      ]
     },
     "execution_count": 15,
     "metadata": {},
     "output_type": "execute_result"
    },
    {
     "data": {
      "image/png": "[encoded data removed]",
      "text/plain": [
       "<Figure size 432x288 with 1 Axes>"
      ]
     },
     "metadata": {
      "needs_background": "light"
     },
     "output_type": "display_data"
    }
   ],
   "source": [
    "import matplotlib.pyplot as plt\n",
    "\n",
    "# 제목의 글자 수 히스토그램 (브런치 데이터)\n",
    "ax = df_brunch['context'].str.len().hist()\n",
    "\n",
    "ax.set_xlabel('length')\n",
    "ax.set_ylabel('frequency')\n",
    "ax.set_title('brunch')"
   ]
  },
  {
   "cell_type": "code",
   "execution_count": 16,
   "id": "e752ee27",
   "metadata": {},
   "outputs": [
    {
     "data": {
      "text/plain": [
       "Text(0.5, 1.0, 'annual spring')"
      ]
     },
     "execution_count": 16,
     "metadata": {},
     "output_type": "execute_result"
    },
    {
     "data": {
      "image/png": "[encoded data removed]",
      "text/plain": [
       "<Figure size 432x288 with 1 Axes>"
      ]
     },
     "metadata": {
      "needs_background": "light"
     },
     "output_type": "display_data"
    }
   ],
   "source": [
    "# 제목의 글자 수 히스토그램 (글틴, 신춘문예, 정제된 브런치 데이터)\n",
    "ax = df_annualspring['context'].str.len().hist()\n",
    "\n",
    "ax.set_xlabel('length')\n",
    "ax.set_ylabel('frequency')\n",
    "ax.set_title('annual spring')"
   ]
  },
  {
   "cell_type": "code",
   "execution_count": 17,
   "id": "3c7e5384",
   "metadata": {},
   "outputs": [
    {
     "data": {
      "text/plain": [
       "<AxesSubplot:>"
      ]
     },
     "execution_count": 17,
     "metadata": {},
     "output_type": "execute_result"
    },
    {
     "data": {
      "image/png": "[encoded data removed]",
      "text/plain": [
       "<Figure size 432x288 with 1 Axes>"
      ]
     },
     "metadata": {
      "needs_background": "light"
     },
     "output_type": "display_data"
    }
   ],
   "source": [
    "# 브런치 단어 개수 (y: 빈도수, x: 단어 개수)\n",
    "df_brunch['context'].str.split().map(lambda x: len(x)).hist()"
   ]
  },
  {
   "cell_type": "code",
   "execution_count": 18,
   "id": "5091531a",
   "metadata": {},
   "outputs": [
    {
     "data": {
      "text/plain": [
       "<AxesSubplot:>"
      ]
     },
     "execution_count": 18,
     "metadata": {},
     "output_type": "execute_result"
    },
    {
     "data": {
      "image/png": "[encoded data removed]",
      "text/plain": [
       "<Figure size 432x288 with 1 Axes>"
      ]
     },
     "metadata": {
      "needs_background": "light"
     },
     "output_type": "display_data"
    }
   ],
   "source": [
    "# 글틴, 신춘문예, 정제된 브런치 단어 개수 (y: 빈도수, x: 단어 개수)\n",
    "df_annualspring['context'].str.split().map(lambda x: len(x)).hist()"
   ]
  },
  {
   "cell_type": "code",
   "execution_count": 20,
   "id": "44d6701a",
   "metadata": {},
   "outputs": [
    {
     "data": {
      "image/png": "[encoded data removed]",
      "text/plain": [
       "<Figure size 432x288 with 1 Axes>"
      ]
     },
     "metadata": {
      "needs_background": "light"
     },
     "output_type": "display_data"
    }
   ],
   "source": [
    "import numpy as np\n",
    "\n",
    "# 브런치 평균 단어 길이\n",
    "ax = df_brunch['context'].str.split().apply(lambda x : [len(i) for i in x]).map(lambda x: np.mean(x)).hist()"
   ]
  },
  {
   "cell_type": "code",
   "execution_count": 22,
   "id": "ca01b58d",
   "metadata": {},
   "outputs": [
    {
     "data": {
      "text/plain": [
       "<AxesSubplot:>"
      ]
     },
     "execution_count": 22,
     "metadata": {},
     "output_type": "execute_result"
    },
    {
     "data": {
      "image/png": "[encoded data removed]",
      "text/plain": [
       "<Figure size 432x288 with 1 Axes>"
      ]
     },
     "metadata": {
      "needs_background": "light"
     },
     "output_type": "display_data"
    }
   ],
   "source": [
    "# textblob을 확인한 간단한 감성 분석\n",
    "from textblob import TextBlob\n",
    "\n",
    "def polarity(text):\n",
    "    return TextBlob(text).sentiment.polarity\n",
    "\n",
    "df_all['polarity_score']=df_all['context'].apply(lambda x : polarity(x))\n",
    "df_all['polarity_score'].hist()"
   ]
  },
  {
   "cell_type": "code",
   "execution_count": 23,
   "id": "f97118b1",
   "metadata": {},
   "outputs": [],
   "source": [
    "df_all.drop('polarity_score', axis=1, inplace=True)"
   ]
  },
  {
   "cell_type": "code",
   "execution_count": 24,
   "id": "392be900",
   "metadata": {},
   "outputs": [
    {
     "data": {
      "text/html": [
       "<div>\n",
       "<style scoped>\n",
       "    .dataframe tbody tr th:only-of-type {\n",
       "        vertical-align: middle;\n",
       "    }\n",
       "\n",
       "    .dataframe tbody tr th {\n",
       "        vertical-align: top;\n",
       "    }\n",
       "\n",
       "    .dataframe thead th {\n",
       "        text-align: right;\n",
       "    }\n",
       "</style>\n",
       "<table border=\"1\" class=\"dataframe\">\n",
       "  <thead>\n",
       "    <tr style=\"text-align: right;\">\n",
       "      <th></th>\n",
       "      <th>context</th>\n",
       "    </tr>\n",
       "  </thead>\n",
       "  <tbody>\n",
       "    <tr>\n",
       "      <th>0</th>\n",
       "      <td>그러니까 때는 바야흐로 9월 말.\\n\\n\\n 할 일 없이 인스타를 눈팅하고 있었던...</td>\n",
       "    </tr>\n",
       "    <tr>\n",
       "      <th>1</th>\n",
       "      <td>나약했던 내가 했었던 당시의 숱한 방황들과 어찌할 방도조차 몰라 손에 잡히면 잡히는...</td>\n",
       "    </tr>\n",
       "    <tr>\n",
       "      <th>2</th>\n",
       "      <td>Q. 당신은 더 나은 삶을 살기 위해 어떤 노력을 하고 있나요?\\n\\nA: 저는 요...</td>\n",
       "    </tr>\n",
       "    <tr>\n",
       "      <th>3</th>\n",
       "      <td>워털루역으로 가는 길은 시끌벅적했다. 당연했다. 토요일 저녁이었으니까. \\n\\n길가...</td>\n",
       "    </tr>\n",
       "    <tr>\n",
       "      <th>4</th>\n",
       "      <td>1.\\n\\n운동을 좋아하지 않는다……. \\n아니다, 운동도 안 좋아하지만 운동을 포...</td>\n",
       "    </tr>\n",
       "    <tr>\n",
       "      <th>...</th>\n",
       "      <td>...</td>\n",
       "    </tr>\n",
       "    <tr>\n",
       "      <th>25</th>\n",
       "      <td>동료가 퇴사했다. 3개월 인턴까지 합쳐도 1년이 채 안 되는 짧은 근무 기간이었다....</td>\n",
       "    </tr>\n",
       "    <tr>\n",
       "      <th>26</th>\n",
       "      <td>선생님, 이번 겨울 우리 시(市)에는 유달리 눈이 잘 오지 않았습니다. 그러나 아랑...</td>\n",
       "    </tr>\n",
       "    <tr>\n",
       "      <th>27</th>\n",
       "      <td>과거는 이미 지나갔다는 말에 고개를 끄덕이면서도, 우리는 흔히 과거에서 벗어나지 못...</td>\n",
       "    </tr>\n",
       "    <tr>\n",
       "      <th>28</th>\n",
       "      <td>루와는 5 주년 하고 일주일 정도 더 사귄 뒤 헤어졌다. 그러니까 헤어짐을 각오한 ...</td>\n",
       "    </tr>\n",
       "    <tr>\n",
       "      <th>29</th>\n",
       "      <td>올해도 시작됐다. 햇살이 제법 봄 같았던 토요일 오후, 나보다 2년이나 어린 후배 ...</td>\n",
       "    </tr>\n",
       "  </tbody>\n",
       "</table>\n",
       "<p>29614 rows × 1 columns</p>\n",
       "</div>"
      ],
      "text/plain": [
       "                                              context\n",
       "0    그러니까 때는 바야흐로 9월 말.\\n\\n\\n 할 일 없이 인스타를 눈팅하고 있었던...\n",
       "1   나약했던 내가 했었던 당시의 숱한 방황들과 어찌할 방도조차 몰라 손에 잡히면 잡히는...\n",
       "2   Q. 당신은 더 나은 삶을 살기 위해 어떤 노력을 하고 있나요?\\n\\nA: 저는 요...\n",
       "3   워털루역으로 가는 길은 시끌벅적했다. 당연했다. 토요일 저녁이었으니까. \\n\\n길가...\n",
       "4   1.\\n\\n운동을 좋아하지 않는다……. \\n아니다, 운동도 안 좋아하지만 운동을 포...\n",
       "..                                                ...\n",
       "25  동료가 퇴사했다. 3개월 인턴까지 합쳐도 1년이 채 안 되는 짧은 근무 기간이었다....\n",
       "26  선생님, 이번 겨울 우리 시(市)에는 유달리 눈이 잘 오지 않았습니다. 그러나 아랑...\n",
       "27  과거는 이미 지나갔다는 말에 고개를 끄덕이면서도, 우리는 흔히 과거에서 벗어나지 못...\n",
       "28  루와는 5 주년 하고 일주일 정도 더 사귄 뒤 헤어졌다. 그러니까 헤어짐을 각오한 ...\n",
       "29  올해도 시작됐다. 햇살이 제법 봄 같았던 토요일 오후, 나보다 2년이나 어린 후배 ...\n",
       "\n",
       "[29614 rows x 1 columns]"
      ]
     },
     "execution_count": 24,
     "metadata": {},
     "output_type": "execute_result"
    }
   ],
   "source": [
    "df_all"
   ]
  },
  {
   "cell_type": "markdown",
   "id": "be77c80a",
   "metadata": {},
   "source": [
    "# 전처리"
   ]
  },
  {
   "cell_type": "code",
   "execution_count": 26,
   "id": "2f32b949",
   "metadata": {},
   "outputs": [],
   "source": [
    "# !pip install soynlp -q"
   ]
  },
  {
   "cell_type": "code",
   "execution_count": 27,
   "id": "5c3cc764",
   "metadata": {},
   "outputs": [],
   "source": [
    "import re\n",
    "from soynlp.normalizer import *\n",
    "\n",
    "def preprocessing(text):\n",
    "    # 문제를 일으킬 수 있는 문자 제거\n",
    "    bad_chars = {\"\\u200b\": \"\", \"…\": \" ... \", \"\\ufeff\": \"\"}\n",
    "    for bad_char in bad_chars:\n",
    "        text = text.replace(bad_char, bad_chars[bad_char])\n",
    "        \n",
    "    error_chars = {\"\\u3000\": \" \", \"\\u2009\": \" \", \"\\u2002\": \" \", \"\\xa0\":\" \"}\n",
    "    for error_char in error_chars:\n",
    "        text = text.replace(error_char, error_chars[error_char])\n",
    "    \n",
    "    # 이메일 제거\n",
    "    text = re.sub(r\"[a-zA-Z0-9+-_.]+@[a-zA-Z0-9-]+\\.[a-zA-Z0-9-.]+\", \"[이메일]\", text).strip()\n",
    "    \n",
    "    # \"#문자\" 형식 어절 제거\n",
    "    text = re.sub(r\"#\\S+\", \"\", text).strip()\n",
    "    \n",
    "    # \"@문자\" 형식 어절 제거\n",
    "    text = re.sub(r\"@\\w+\", \"\", text).strip()\n",
    "    \n",
    "    # URL 제거\n",
    "    text = re.sub(r\"(http|https)?:\\/\\/\\S+\\b|www\\.(\\w+\\.)+\\S*\", \"[웹주소]\", text).strip()\n",
    "    text = re.sub(r\"pic\\.(\\w+\\.)+\\S*\", \"[웹주소]\", text).strip()\n",
    "    \n",
    "    # 뉴스 저작권 관련 텍스트 제거\n",
    "    re_patterns = [\n",
    "        r\"\\<저작권자(\\(c\\)|ⓒ|©|\\(Copyright\\)|(\\(c\\))|(\\(C\\))).+?\\>\",\n",
    "        r\"저작권자\\(c\\)|ⓒ|©|(Copyright)|(\\(c\\))|(\\(C\\))\"\n",
    "    ]\n",
    "    \n",
    "    for re_pattern in re_patterns:\n",
    "        text = re.sub(re_pattern, \"\", text).strip()\n",
    "    \n",
    "    # 뉴스 내 포함된 이미지에 대한 레이블 제거\n",
    "    text = re.sub(r\"\\(출처 ?= ?.+\\) |\\(사진 ?= ?.+\\) |\\(자료 ?= ?.+\\)| \\(자료사진\\) |사진=.+기자 \", \"\", text).strip()\n",
    "    \n",
    "    # 중복 문자 처리\n",
    "    text = repeat_normalize(text, num_repeats=2).strip()\n",
    "    \n",
    "    # 문제를 일으킬 수 있는 구두점 치환\n",
    "    punct_mapping = {\"‘\": \"'\", \"₹\": \"e\", \"´\": \"'\", \"°\": \"\", \"€\": \"e\", \"™\": \"tm\", \"√\": \" sqrt \", \"×\": \"x\", \"²\": \"2\", \"—\": \"-\", \"–\": \"-\", \"’\": \"'\", \"_\": \"-\", \"`\": \"'\", '“': '\"', '”': '\"', '“': '\"', \"£\": \"e\", '∞': 'infinity', 'θ': 'theta', '÷': '/', 'α': 'alpha', '•': '.', 'à': 'a', '−': '-', 'β': 'beta', '∅': '', '³': '3', 'π': 'pi', }\n",
    "    for p in punct_mapping:\n",
    "        text = text.replace(p, punct_mapping[p])\n",
    "    \n",
    "    # 연속된 공백 치환\n",
    "    text = re.sub(r\"\\s+\", \" \", text).strip()\n",
    "    \n",
    "    # 개행 문자 \"\\n\" 제거\n",
    "    text = text.replace('\\n', '')\n",
    "    \n",
    "    return text"
   ]
  },
  {
   "cell_type": "code",
   "execution_count": 28,
   "id": "98f9063b",
   "metadata": {},
   "outputs": [],
   "source": [
    "# 허깅페이스 데이터 셋 라이브러리 활용, 빠른 전처리\n",
    "def dataset_preprocessing(examples):\n",
    "    examples['context'] = preprocessing(examples['context'])\n",
    "    return examples"
   ]
  },
  {
   "cell_type": "code",
   "execution_count": 29,
   "id": "7d5e45b8",
   "metadata": {},
   "outputs": [
    {
     "data": {
      "application/vnd.jupyter.widget-view+json": {
       "model_id": "3899e0e4feb44ec0b525dd80be91ba0e",
       "version_major": 2,
       "version_minor": 0
      },
      "text/plain": [
       "  0%|          | 0/29614 [00:00<?, ?ex/s]"
      ]
     },
     "metadata": {},
     "output_type": "display_data"
    }
   ],
   "source": [
    "from datasets import Dataset\n",
    "\n",
    "# 허깅페이스 데이터셋 형태로 변환\n",
    "Dataset_all = Dataset.from_pandas(df_all)\n",
    "\n",
    "# 전처리 함수 적용\n",
    "Dataset_all = Dataset_all.map(dataset_preprocessing)"
   ]
  },
  {
   "cell_type": "code",
   "execution_count": 30,
   "id": "c01d0434",
   "metadata": {},
   "outputs": [],
   "source": [
    "# 판다스 데이터프레임 형태로 전환\n",
    "df_preprocessed = Dataset_all.to_pandas()"
   ]
  },
  {
   "cell_type": "markdown",
   "id": "206d2681",
   "metadata": {},
   "source": [
    "## 전처리 결과 확인"
   ]
  },
  {
   "cell_type": "code",
   "execution_count": 32,
   "id": "87a5c8cd",
   "metadata": {},
   "outputs": [
    {
     "data": {
      "text/html": [
       "<div>\n",
       "<style scoped>\n",
       "    .dataframe tbody tr th:only-of-type {\n",
       "        vertical-align: middle;\n",
       "    }\n",
       "\n",
       "    .dataframe tbody tr th {\n",
       "        vertical-align: top;\n",
       "    }\n",
       "\n",
       "    .dataframe thead th {\n",
       "        text-align: right;\n",
       "    }\n",
       "</style>\n",
       "<table border=\"1\" class=\"dataframe\">\n",
       "  <thead>\n",
       "    <tr style=\"text-align: right;\">\n",
       "      <th></th>\n",
       "      <th>context</th>\n",
       "    </tr>\n",
       "  </thead>\n",
       "  <tbody>\n",
       "    <tr>\n",
       "      <th>0</th>\n",
       "      <td>그러니까 때는 바야흐로 9월 말. 할 일 없이 인스타를 눈팅하고 있었던 나. 자동 ...</td>\n",
       "    </tr>\n",
       "    <tr>\n",
       "      <th>1</th>\n",
       "      <td>나약했던 내가 했었던 당시의 숱한 방황들과 어찌할 방도조차 몰라 손에 잡히면 잡히는...</td>\n",
       "    </tr>\n",
       "    <tr>\n",
       "      <th>2</th>\n",
       "      <td>Q. 당신은 더 나은 삶을 살기 위해 어떤 노력을 하고 있나요? A: 저는 요즘 아...</td>\n",
       "    </tr>\n",
       "    <tr>\n",
       "      <th>3</th>\n",
       "      <td>워털루역으로 가는 길은 시끌벅적했다. 당연했다. 토요일 저녁이었으니까. 길가에 위치...</td>\n",
       "    </tr>\n",
       "    <tr>\n",
       "      <th>4</th>\n",
       "      <td>1. 운동을 좋아하지 않는다 ... ... . 아니다, 운동도 안 좋아하지만 운동을...</td>\n",
       "    </tr>\n",
       "    <tr>\n",
       "      <th>...</th>\n",
       "      <td>...</td>\n",
       "    </tr>\n",
       "    <tr>\n",
       "      <th>29609</th>\n",
       "      <td>동료가 퇴사했다. 3개월 인턴까지 합쳐도 1년이 채 안 되는 짧은 근무 기간이었다....</td>\n",
       "    </tr>\n",
       "    <tr>\n",
       "      <th>29610</th>\n",
       "      <td>선생님, 이번 겨울 우리 시(市)에는 유달리 눈이 잘 오지 않았습니다. 그러나 아랑...</td>\n",
       "    </tr>\n",
       "    <tr>\n",
       "      <th>29611</th>\n",
       "      <td>과거는 이미 지나갔다는 말에 고개를 끄덕이면서도, 우리는 흔히 과거에서 벗어나지 못...</td>\n",
       "    </tr>\n",
       "    <tr>\n",
       "      <th>29612</th>\n",
       "      <td>루와는 5 주년 하고 일주일 정도 더 사귄 뒤 헤어졌다. 그러니까 헤어짐을 각오한 ...</td>\n",
       "    </tr>\n",
       "    <tr>\n",
       "      <th>29613</th>\n",
       "      <td>올해도 시작됐다. 햇살이 제법 봄 같았던 토요일 오후, 나보다 2년이나 어린 후배 ...</td>\n",
       "    </tr>\n",
       "  </tbody>\n",
       "</table>\n",
       "<p>29614 rows × 1 columns</p>\n",
       "</div>"
      ],
      "text/plain": [
       "                                                 context\n",
       "0      그러니까 때는 바야흐로 9월 말. 할 일 없이 인스타를 눈팅하고 있었던 나. 자동 ...\n",
       "1      나약했던 내가 했었던 당시의 숱한 방황들과 어찌할 방도조차 몰라 손에 잡히면 잡히는...\n",
       "2      Q. 당신은 더 나은 삶을 살기 위해 어떤 노력을 하고 있나요? A: 저는 요즘 아...\n",
       "3      워털루역으로 가는 길은 시끌벅적했다. 당연했다. 토요일 저녁이었으니까. 길가에 위치...\n",
       "4      1. 운동을 좋아하지 않는다 ... ... . 아니다, 운동도 안 좋아하지만 운동을...\n",
       "...                                                  ...\n",
       "29609  동료가 퇴사했다. 3개월 인턴까지 합쳐도 1년이 채 안 되는 짧은 근무 기간이었다....\n",
       "29610  선생님, 이번 겨울 우리 시(市)에는 유달리 눈이 잘 오지 않았습니다. 그러나 아랑...\n",
       "29611  과거는 이미 지나갔다는 말에 고개를 끄덕이면서도, 우리는 흔히 과거에서 벗어나지 못...\n",
       "29612  루와는 5 주년 하고 일주일 정도 더 사귄 뒤 헤어졌다. 그러니까 헤어짐을 각오한 ...\n",
       "29613  올해도 시작됐다. 햇살이 제법 봄 같았던 토요일 오후, 나보다 2년이나 어린 후배 ...\n",
       "\n",
       "[29614 rows x 1 columns]"
      ]
     },
     "execution_count": 32,
     "metadata": {},
     "output_type": "execute_result"
    }
   ],
   "source": [
    "df_preprocessed.drop('__index_level_0__', axis=1, inplace=True)\n",
    "df_preprocessed"
   ]
  },
  {
   "cell_type": "code",
   "execution_count": 34,
   "id": "4174394d",
   "metadata": {},
   "outputs": [
    {
     "data": {
      "text/html": [
       "<div>\n",
       "<style scoped>\n",
       "    .dataframe tbody tr th:only-of-type {\n",
       "        vertical-align: middle;\n",
       "    }\n",
       "\n",
       "    .dataframe tbody tr th {\n",
       "        vertical-align: top;\n",
       "    }\n",
       "\n",
       "    .dataframe thead th {\n",
       "        text-align: right;\n",
       "    }\n",
       "</style>\n",
       "<table border=\"1\" class=\"dataframe\">\n",
       "  <thead>\n",
       "    <tr style=\"text-align: right;\">\n",
       "      <th></th>\n",
       "      <th>context</th>\n",
       "    </tr>\n",
       "  </thead>\n",
       "  <tbody>\n",
       "    <tr>\n",
       "      <th>0</th>\n",
       "      <td>그러니까 때는 바야흐로 9월 말. 할 일 없이 인스타를 눈팅하고 있었던 나. 자동 ...</td>\n",
       "    </tr>\n",
       "    <tr>\n",
       "      <th>1</th>\n",
       "      <td>나약했던 내가 했었던 당시의 숱한 방황들과 어찌할 방도조차 몰라 손에 잡히면 잡히는...</td>\n",
       "    </tr>\n",
       "    <tr>\n",
       "      <th>2</th>\n",
       "      <td>Q. 당신은 더 나은 삶을 살기 위해 어떤 노력을 하고 있나요? A: 저는 요즘 아...</td>\n",
       "    </tr>\n",
       "    <tr>\n",
       "      <th>3</th>\n",
       "      <td>워털루역으로 가는 길은 시끌벅적했다. 당연했다. 토요일 저녁이었으니까. 길가에 위치...</td>\n",
       "    </tr>\n",
       "    <tr>\n",
       "      <th>4</th>\n",
       "      <td>1. 운동을 좋아하지 않는다 ... ... . 아니다, 운동도 안 좋아하지만 운동을...</td>\n",
       "    </tr>\n",
       "    <tr>\n",
       "      <th>...</th>\n",
       "      <td>...</td>\n",
       "    </tr>\n",
       "    <tr>\n",
       "      <th>29609</th>\n",
       "      <td>동료가 퇴사했다. 3개월 인턴까지 합쳐도 1년이 채 안 되는 짧은 근무 기간이었다....</td>\n",
       "    </tr>\n",
       "    <tr>\n",
       "      <th>29610</th>\n",
       "      <td>선생님, 이번 겨울 우리 시(市)에는 유달리 눈이 잘 오지 않았습니다. 그러나 아랑...</td>\n",
       "    </tr>\n",
       "    <tr>\n",
       "      <th>29611</th>\n",
       "      <td>과거는 이미 지나갔다는 말에 고개를 끄덕이면서도, 우리는 흔히 과거에서 벗어나지 못...</td>\n",
       "    </tr>\n",
       "    <tr>\n",
       "      <th>29612</th>\n",
       "      <td>루와는 5 주년 하고 일주일 정도 더 사귄 뒤 헤어졌다. 그러니까 헤어짐을 각오한 ...</td>\n",
       "    </tr>\n",
       "    <tr>\n",
       "      <th>29613</th>\n",
       "      <td>올해도 시작됐다. 햇살이 제법 봄 같았던 토요일 오후, 나보다 2년이나 어린 후배 ...</td>\n",
       "    </tr>\n",
       "  </tbody>\n",
       "</table>\n",
       "<p>29602 rows × 1 columns</p>\n",
       "</div>"
      ],
      "text/plain": [
       "                                                 context\n",
       "0      그러니까 때는 바야흐로 9월 말. 할 일 없이 인스타를 눈팅하고 있었던 나. 자동 ...\n",
       "1      나약했던 내가 했었던 당시의 숱한 방황들과 어찌할 방도조차 몰라 손에 잡히면 잡히는...\n",
       "2      Q. 당신은 더 나은 삶을 살기 위해 어떤 노력을 하고 있나요? A: 저는 요즘 아...\n",
       "3      워털루역으로 가는 길은 시끌벅적했다. 당연했다. 토요일 저녁이었으니까. 길가에 위치...\n",
       "4      1. 운동을 좋아하지 않는다 ... ... . 아니다, 운동도 안 좋아하지만 운동을...\n",
       "...                                                  ...\n",
       "29609  동료가 퇴사했다. 3개월 인턴까지 합쳐도 1년이 채 안 되는 짧은 근무 기간이었다....\n",
       "29610  선생님, 이번 겨울 우리 시(市)에는 유달리 눈이 잘 오지 않았습니다. 그러나 아랑...\n",
       "29611  과거는 이미 지나갔다는 말에 고개를 끄덕이면서도, 우리는 흔히 과거에서 벗어나지 못...\n",
       "29612  루와는 5 주년 하고 일주일 정도 더 사귄 뒤 헤어졌다. 그러니까 헤어짐을 각오한 ...\n",
       "29613  올해도 시작됐다. 햇살이 제법 봄 같았던 토요일 오후, 나보다 2년이나 어린 후배 ...\n",
       "\n",
       "[29602 rows x 1 columns]"
      ]
     },
     "execution_count": 34,
     "metadata": {},
     "output_type": "execute_result"
    }
   ],
   "source": [
    "# 전처리 후 중복 문장 확인 및 제거\n",
    "df_preprocessed.drop_duplicates('context', inplace=True)\n",
    "df_preprocessed"
   ]
  },
  {
   "cell_type": "code",
   "execution_count": 36,
   "id": "e7f8875b",
   "metadata": {},
   "outputs": [
    {
     "data": {
      "text/plain": [
       "'그러니까 때는 바야흐로 9월 말. 할 일 없이 인스타를 눈팅하고 있었던 나. 자동 추천으로 뜨는 광고에 제9회 브런치 북 출판 프로젝트에 관한 글이 올라왔다. 실물에 근접한 짤. \"호오, 이 몸이 나 설 차롄가.\" 흔한 아가리어터 물론. 나는 어디 가서 작가 소리를 들어보지 못한 평범한 소시민. 고등학교 때부터 작가가 되고 싶다는 꿈 때문에 전공도 그쪽으로 선택하였지만 20대 때는 거의 글과는 상관없는 다른 일을 했었고, 그렇게 \\'작가\\'라는 단어가 막연해질 때 즈음... 2021년. 갑자기 하는 일마다 잘 풀리기 시작했다. 일, 인간관계, 여러 가지 사건들. 마치 3n년동안 쌓아놨던 \\'운\\' 마일리지를 한꺼번에 쓰는 기분이랄까. 하는 일마다 잘 풀리니 나 스스로도 많이 성장하고 여유로워질 수 있었던 한 해였다. 과거의 나는. 정말 남들이 생각해도 이상하다고 느낄 정도로 일 한 번 더럽게 안 풀리던 사람이었다. 하는 일마다 안되고 남들은 조금의 노력에도 쉽게 이루는 것을 나는 죽어라 하는데도 들어주지 않는 하늘이 원망스러웠다. 종교는 없지만 정말 신이 존재한다면 멱살 잡고 흔들고 싶은 심정이었다. 명곡 - 바보사랑 그렇다 보니, 어떤 일을 하든 시작도 전에 \\'안될 거야.\\'가 자동적으로 나왔다. 물론 결과도...? 잘 안됐다. 마음을 편히 가져야 일이 잘 풀린다는 말은 거짓말이다. 일이 잘 풀려야 마음이 편해지는 거다. 3n동안 한 번도 일이 잘 풀려보지 못했던 사람의 기준에서 생각하자면 일이 잘 풀려야 비로소 사람이 여유도 있고 너그러워지더라. \\'곳간에서 인심 난다\\'라는 말이 정답이다. 2021년. 도전하는 것마다 잘 되기 시작했다. 내 디폴드 값은 이게 아닌데? 하는 생각과 함께 전에 해보지 않았던 새로운 일을 하기 시작했고 잠깐의 우여곡절이 있었으나 현재는 내 인생 최고의 오너를 모시고 학원에서 아이들을 가르치고 있다. 연초뿐만 아니라, 봄, 여름, 그리고 지금까지 3n 년 나의 디폴드 값이 계속해서 깨지면서 소위 말해 \\'우주의 기운이 나에게 모이고 있구나.\\' 하는 생각이 들었다. 혼이 비정상 더불어 늘어나는 근거 없는 자신감. 잃을 게 없는 자는 두려울 것도 없지. 가끔씩 이 행운이 언젠가 끝날지도 모른다는 두려움과 갑자기 찾아온 행운이 마냥 달갑지만은 않은 감정이 들기도 하지만 이번엔 다르다. 전성기 야구선수들이 말하는 \\'폼이 올라왔다.\\'가 나에게서 느껴지고 있다. \\'봄데\\'라는 말을 아는가. 봄의 롯데는 메이저리그 어느 팀이 와도 절대 이기지 못한다는 뜻이다. 그리고 가을엔... 또륵.. 왜 못가!! 왜 못 가냐고 가을 야구! 지금 나의 상태가 그러하다. 2021년은 바로 이 천재의 해. 하는 일마다 뭐든 잘 풀렸지. 지나가는 낙엽마저 나를 피해 갔다지? 뭔가 될 것 같은 느낌적인 느낌 느낌 온 우주의 힘이 느껴지는 시기였기 때문에... 그래서 넣었다. 브런치 작가 신청을. 브런치 작가 신청 후 며칠 뒤, 애플 워치의 알람이 울렸다. 일하는 중이라 자세히 보지 못했는데 브런치에서 온 알람이었다. 브런치 작가가 되신 것을 진심으로 축하드립니다. 처음엔 실감이 나지 않았다. 그래서 바로 옆에 있던 내가 가르치는 꼬마에게 장난스럽게 말했다. \"나 작가 됐냐벼. 껄껄껄.\" 껄껄껄 두근, 세근, 네근. 얼떨떨한 기분에 기쁜 내색을 감추고 핸드폰을 켜 알람을 다시 한번 확인했다. 10월 6일 오후 2시 42분의 일. 조금씩 현실감이 느껴졌다. 내가... 자까??? 네에에에??? 저를요:???? 악어의 눈물 제가 천재는 맞습니다만... 브런치 작가가 되기 전, 브런치에 대한 나의 생각은 말 그대로 좀 쓰는 분들. 아뤼스트(artist)들이 소크라테스 뺨치는 고뇌 끝에 글을 올리는 곳으로 생각했다. 그래서 브런치를 자주 보진 않았다. 나는 범인이니까. (심오함과는 거리가 초큼 먼 사람) 브런치 작가가 된 후, 나를 왜 뽑아줬을까. 1. 담당자분이 다른 사람하고 착각한 것이다. 2. 불쌍해서 3. 뭐야, 몰래 카메란가. (트루먼 쇼) 브런치 작가가 되었다?! 그러니까 내가 바로 그 저세상 아티스트, 소크라테스가 되었단 건가. 우리 형의 시대는 갔다. 대세는 테스 형. 브런치 작가가 된 기념으로 나만의 만찬을 즐기기로 했다. 설레발은 전국구급. 보고있어? 테스형? 과연 이 천재의 운명은?! 괴물 신인의 시선으로 본 일상 글 시작 ٩( ᐛ )و'"
      ]
     },
     "execution_count": 36,
     "metadata": {},
     "output_type": "execute_result"
    }
   ],
   "source": [
    "df_preprocessed['context'][0]"
   ]
  },
  {
   "cell_type": "code",
   "execution_count": 37,
   "id": "1d1b5887",
   "metadata": {},
   "outputs": [
    {
     "data": {
      "text/plain": [
       "'\\'글이 작품이 되는 공간, 브런치\\'에 신참 작가로 발을 들였다. 오프라인 세상을 넘어 온라인 세상을 맛보려는 중에 브런치를 만났다. 약간은 고집이 있어 보이는 브런치가 은근한 매력으로 다가왔다. 게다가 브런치 작가 되기가 만만찮다는 소문이 근거 없는 승부욕을 스멀스멀 기어 나오게 만들었다. 작가 신청을 하려 예습을 하느라 블로그에다 유튜브 등 여기저기 들춰보았다. 단번에 합격했다는 이도 없지 않았지만 대개가 두 번, 세 번, 심지어 열 번 떨어지고 나서야 가까스로 승인받았다는 악에 받친 듯한 외침을 들었다. 네 가지 질문 사항을 보니 청양고추 못지않은 매운맛을 삼켜야 했다. 어찌어찌 답을 준비해 11월 첫째 토요일 새벽, 신청 클릭을 눌렀다. 일요일 지나고 월요일을 거쳐 화요일 메일이 들어왔다. \"브런치 작가가 되신 것을 진심으로 축하드립니다. 소중한 글 기대하겠습니다.\" 아니 이게 웬 횡잰가! 단박에 합격하다니! 거기다가 소중한 글 기대한다고 부추기기까지(?) 하니 어질어질한 환희가 모니터 화면을 쫘악 덮는다. 홀딱 빠진 마음으로 앞뒤 잴 것 없이 이미 제출한 세 편의 글에 더해 연달아 두 꼭지를 더 발행했더니 금세 마흔세 분이 쭈욱 훑어보질 않나, 라이킷이 네 분이나 되질 않나, 아예 혼을 쏙 빼놓는 느낌이었다. 그러나 그 순간, 정신이 번쩍 들었다. 실타래를 제대로 추스르지도 않고 천을 짜려 들었으니, 초짜도 완전 초짜 티를 고스란히 드러내고 말았다. 관문을 뚫기가 만만찮다는 브런치 작가 되기를 단박에 품었다는 흥분으로 제대로 준비조차 하지 않은 채 발행부터 했던 경박함에 몸둘바를 몰랐다. 문득 글쓰기를 위한 자기 고백을 신고식으로 삼는 통과의례를 치러야 한다는 생각이 들었다. 해서 긴 호흡으로 가야 할 글짓기 여정을 위해서 처음부터 헛디딘 걸음을 바로 잡아야 했다. 발행한 다섯 편을 취소했다. 앞서 언급한 마흔 세분과 라이킷 네 분에게는 심심한 사과를 표한다. 그리고 때를 맞춰 다시 게재할 것을 약속드린다. ********* 오랜 세월 배우고 가르쳐 온 신학과 신화는 나에게 \\'자유\\'와 \\'상생 相生\\'을 삶의 키워드로 선물했다. 자유란 \\'...으로부터의 벗어남\\'을 뜻하는 자유가 아닌 시종여일하게 나 자신이고자 한 의식으로서의 자유이다. 그것은 모든 비교로부터 자유로워지는 것, 어떤 다른 것이 되려는 것이 아닌 있는 그대로의 자신이고자 하는 자유요, 일상에서 끊임없이 작동하는 신성 divine과 마성 devil을 구분 짓는 경계를 넘어서는 자유이다. divine과 devil은 산스크리트 deva에서 비롯되었는데 deva는 \\'신 神\\'을 뜻한다. 한마디로 神性 divine과 魔性 devil은 한 뿌리에서 비롯한 짝이다. 상생은 공생과 다르다. 공생이 완전한 화학적 결합을 이루어 제 맛은 사라지고 완전 새로운 맛을 내는 도가니탕으로 비유된다면 상생은 \\'샐러드\\'이다. 여러 맛이 버무려져 맛을 내면서도 각각 자기 만의 맛을 유지하는 샐러드 말이다. 내 식대로 파자해본다. 상생 相生이란 나무 木의 관점 目으로(相=木+目) 세상살이를 바라보는 것일지니, 나무는 언제나 자신의 모습을 잃지 않은 채 자기 삶의 자리에서 다른 이들의 삶을 있는 그대로 바라봐 준다. 타인이 도움을 청할 때에는 때로는 그늘을, 때로는 휴식을 기꺼이 내준다. 심지어 자기 생명을 포기하면서까지 목재로, 땔감으로 주는 것도 마다하지 않는다. 종교 신화학자 조지프 켐벨은 말한다. \"이 세상의 슬픔에 기쁨으로 참여하라. 우리는 이 세상의 슬픔을 치유할 수는 없지만 기쁨 안에서 사는 삶을 선택할 수는 있다. 이 세상은 우리의 짝이며 우리 역시 이 세상의 짝이다.\" ********* 인류는 역사를 쌓아온 이래 빅 퀘스쳔 big questions 의 3問 - 나는 어디에서 왔는가? 나는 무엇인가? 나는 어디로 가는가? -의 답을 찾기 위해 치열한 탐구의 여정을 이어오고 있다. 처음 신화와 종교로 행해오던 탐구 과정은 대변혁에 직면했다. 코페르니쿠스-갈릴레이의 새 우주관은 세상의 중심이라고 거들먹거려오던 인간을 우주의 변두리 밖으로 추방해버렸으며 허블 망원경으로 바라본 급가속적으로 팽창하고 있는 우주는 인간을 허무한 존재로 만들기에 넘치고도 남았다. 그러다가 20세기 들어 \\'네오 코페르니쿠스 혁명\\'이라고 불리는 양자역학과 뇌과학은 변두리로 쫓겨난 인간을 새로운 모습으로 다듬어 다시 우주의 중심으로 불러들였다. 하여 빅 퀘스쳔 역시 새로운 도전에 직면하게 되었다. 우주를 깊이 들여다본 과학자들과 자아의 내면을 들여다본 영성가들은 궁극적으로 똑같은 사실을 마주하게 된다는 말이 있다. 20세기가 마무리 될 즈음 칼 세이건, 데이비드 크리스쳔 같은 학자들의 선구자적 노력으로 자연과학과 인문학이 통합한 \\'빅 히스토리 Big History\\'가 탄생했다. \\'빅 히스토리\\'란 빅뱅으로 탄생한 137억 년의 우주의 역사와 그 안에서 태어난 숱한 생명체 그리고 인간 간의 균형과 조화를 물음함으로써 빅 퀘스쳔에 대한 해답을 찾고자 하는 거대한 역사적 탐구이다. 빅 퀘스쳔의 답을 찾는 과정은 존재론적, 실존적 투쟁으로서, 그 궁극은 자유와 상생이다. 삶의 신비란 신성과 마성을 날줄과 씨줄 삼아 짜는 천으로서 그 안에는 기쁨과 슬픔, 행과 불행, 갈등과 조화, 상생과 상극 등의 무늬가 새겨지는 데에 있는 것이 아닐까? 해서 이렇게 고백해본다. \\'삶이란 사는 동안 엮어가는 경험에 다름 아니요, 그 궁극은 삶의 신비의 시원 始源을 찾는 다양한 여정이다.\\' 빅 퀘스쳔을 붙들고 씨름하는 동안 존재의 신비, 일상의 삶의 충만함을 체험하는 천복 天福. bliss을 누리고 싶다. 그리고 상생의 세상을 이루고 싶다. *** 다른 한편 남과 북이 함께 사는 세상을 이루기 위하여 남북문제에 뛰어들어 30년이 넘는 세월 동안 평화통일운동단체를 이끌면서 평양을 직접 오가며 활동하고 있다. 허나, 미중 간 패권 경쟁의 소용돌이에 맞닥뜨린 한반도의 지정학적 현실에서 한반도 평화통일은 열려하면 할수록 더욱 오므라드는 판도라 항아리 속에 갇혀있는 희망에 진배없음을 깨달았다. 하여 특히 대한민국의 중추 세대와 미래세대의 삶의 콘텍스트가 평화와 상생의 세상이 되기 위하여, 서로 껴안다가 할퀴기를 반복하는 이제까지의 혼돈스러운 통일 운동 방식은 그 효력을 다했음을 인정하고 국제법에 의거하여 남과 북이 각각 2 국가 2 체제로 공존하는 \\'두 개의 코리아\\'를 주제로 삼고 이의 실현을 위하여 휴전선-국경선화 운동을 새로운 해법으로 주창한다. ********* 글이 작품이 되는 공간, 브런치에서 자유롭게 유영할 수 있는 자격을 가진 브런치 작가가 되었다. 스스로 대단하다! 글이 작품이 된다 하니 작품을 만드는 작가는 명품임이 틀림없으리라! 브런치의 익면 面의 고수들의 가르침을 귀동냥하려는 설렘으로 신고식을 닫는다!'"
      ]
     },
     "execution_count": 37,
     "metadata": {},
     "output_type": "execute_result"
    }
   ],
   "source": [
    "df_preprocessed['context'][5]"
   ]
  },
  {
   "cell_type": "code",
   "execution_count": 38,
   "id": "1c052e03",
   "metadata": {},
   "outputs": [
    {
     "data": {
      "text/plain": [
       "'아주 가끔 요리를 한다. 그럴 땐 내 안에서 꿈틀대는 예술적 창의성을 최대한 억누르고 조리법대로만 하려고 한다. 늘 그게 옳다. 검색하면 웬만한 요리는 다 나온다. 요즘은 유튜브도 잘 되어있어서 따라 하기 더 편하다. 김치찌개를 처음 만들어 봤을 때가 떠오른다. 자취를 시작하고 얼마 되지 않았을 때다. 고향집에서 보낸 김치가 스티로폼 박스에 가득 담겨왔다. 신김치였다. 나는 신김치를 싫어해서 손도 대지 않고 그대로 냉장고에 처박아뒀다. 그런데 며칠 뒤부터 냉장고를 열 때마다 김치 냄새가 심하게 풍기는 게 아닌가. 설상가상 냉장고에 있는 모든 음식에서 김치향이 나기 시작했다. 김치향 치즈, 김치향 딸기잼, 김치향 우유... 위기감을 느끼고 서둘러 처리할 방법을 궁리했다. 결국 만만한 김치찌개를 하기로 했다. 신김치는 싫지만 신김치찌개는 좋아하니까. 설명하긴 어렵지만 무슨 뜻인지 다들 아시죠? 아무튼 조리법을 검색해봤다. 재료는 별다를 거 없다. 돼지고기와 신김치는 필수. 취향에 따라 두부와 양파, 애호박 같은 걸 추가하면 그만이다. 그런데 재료에 설탕이 있었다. 소금도 아니고 설탕? 김치찌개에 설탕을 넣으라니? 영 미심쩍어서 다른 레시피도 찾아봤는데 설탕을 넣으라는 말이 많았다. 내가 먹어봤던 김치찌개 맛을 떠올려봤지만 설탕이 들어갔을 거라곤 상상이 안됐다. 시고 짠 김치찌개. 김치찌개에 단맛이 있었나? 냄비에 비계가 많은 돼지고기를 넣는다. 기름이 나올 때까지 익혀주다가 김치를 넣는다. 김치 색깔이 노랗게 변할 때까지 돼지기름과 함께 들들 볶는다. 그다음 물을 조금만 넣고 양파, 파, 고춧가루를 넣는다. 재료를 다 넣은 뒤엔 김치 국물로 농도를 맞춘다. 간을 보면 어딘가 맹맹한 느낌이 든다. MSG가 없어서 그렇다. 미원이나 맛소금을 조금씩 넣는다. 훨씬 나아졌지만 역시 조금 아쉽다. 그때, 설탕을 넣는다. 그러면 비로소 김치찌개가 완성된다. 따끈하게 익은 쌀밥 위에 돼지고기와 김치를 얹어 먹는다. 다음은 쌀밥에 김치 국물을 자박자박할 정도로 넣은 뒤, 김에 싸서 먹는다. 약간 짜니까 반숙인 계란 프라이를 반찬으로 먹는다. 처음 하는 것치곤 그런대로 먹을만하다. 많이 하면 더 늘 거라는 확신이 든다. 김치찌개엔 설탕이 들어간다. 그러나 직접 해보기 전에는 꿈에도 몰랐다. 김치찌개의 애매한 맛을 완성하는 게 설탕이라니. 어떤 문제들은 그렇게 상상도 못 한 곳에서 조정된다. 어쩌면 사람도 그런지 모른다. 아무튼 김치찌개를 한 번 해 먹으니 매일 이렇게 해먹을 수도 있겠다는 생각이 들었다. 다른 찌개도 많으니까. 김치찌개, 된장찌개, 순두부찌개 등등... 그러나 그 이후로 거의 육 개월 동안 한 번도 김치찌개를 해 먹지 않았다. 날마다 배달음식이나 패스트푸드 같은 걸 먹었다. 올해도 김치찌개는 딱 한 번 해 먹었다. 신김치는 여전히 손도 대지 않는다. 사람은 손쉽게 바뀌지 않는 모양이다. 그러니 겸손하고 또 겸손해도 부족하지 않은 것 같네요?'"
      ]
     },
     "execution_count": 38,
     "metadata": {},
     "output_type": "execute_result"
    }
   ],
   "source": [
    "df_preprocessed['context'][10]"
   ]
  },
  {
   "cell_type": "code",
   "execution_count": 39,
   "id": "0108b9c4",
   "metadata": {
    "scrolled": true
   },
   "outputs": [
    {
     "data": {
      "text/plain": [
       "\"앞서 신체적인 감각 중심으로 나의 경향성을 둘러보았다. 요약하면 주로 신체 에너지 상태에 따라 신체가 느끼는 편안함과 불편함이 달라짐을 알 수 있었다. 그리고 내가 취하고 있는 불편한 상태에서의 대응법에 대해 돌아보았다. 그렇다면 다음은 편안한 상태에 대한 대응법은 어떠한지 돌아봐야겠지 않은가? 편안한 상태에 대한 대응은 불편한 상태에 대한 대응과는 다른 방향을 보인다. 편안함은 그냥 내버려 두면 자동적으로 편안함을 유지하려 하기에 게을러진다. 그렇기에 앞서 말했듯 쾌락을 찾아야 한다. 쾌락은 어디서 얻을 수 있는가? 지속하기 힘든 마약과 같은 것을 제외하면 개인적인 생각으로는 성취감에서 쾌락을 얻을 수 있다고 생각한다. 그럼 성취감은 무엇인가? 사전적으로는 목적한 바를 이루었다는 느낌이다. 나는 조금 더 넓혀 목적한 바와 가까워지는 느낌까지도 포함하고 싶다. 성취감을 얻는 과정에서 쾌락뿐만 아니라 자기 통제감과 효능감까지 얻을 수 있다. 개인적으로는 건강한 삶 전반에 가장 필요한 요소라고 생각된다. 그렇다면 성취감은 어떻게 얻을 수 있는가? 앞서 말했듯 성취감은 '목표'에 얼마나 접근하였는지에 대한 주관적 느낌이다. 즉, 목표가 있어야 한다. 이때 목표는 스스로 설정한 것이어야 한다. 타인이 설정해준 목표에도 성취감을 느낀다고 할 수도 있으나, 나의 경우에는 타인이 정해준 목표 그 자체에 대해 성취감이 있기보다는 주어진 업무를 완료한다라는 스스로의 목표에 대한 성취감이라 생각한다. 그렇기에 내일이라 생각되지 않는 회사일은 그 자체의 달성에 성취감이 있기보다는 일이 끝나 퇴근이라는 목표를 달성할 때 성취감을 느낀다. 또한 '놀이기구를 타거나 영화를 보는 것을 통해 쾌락을 느끼는 것은 목표를 달성하고 성취감을 느끼는 것이 아니지 않나?'라는 의문이 있을 수도 있다. 이에 대해선 기대라는 목표에 대한 성취감이라 생각된다. 이것도 성취감에 넣는다면 '만족감'을 성취감에 포함시킬 수 있을 것이다. 그리고 만족은 행복으로 이어진다. 행복은 만족감에 기인하고, 만족감은 성취감의 하나라고 볼 수도 있겠다. 행복을 목적으로 사는 것은 아니지만 행복이라는 부산물은 삶의 질을 높여준다. 즉, 목표를 설정하고 이루어나가는 것이 높은 삶의 질을 선사한다. 앞서 말했듯 목표의 설정은 의식적이든 무의식적이든 스스로 해야지만 성취감으로 이어진다. 그렇다는 것은 목표의 능동적 설정이 나의 삶의 질에 큰 영향을 미친다는 것이다. 여기서 고려할 점이 생긴다. 능동적 목표 설정은 자유롭다. 자유롭기에 불안할 수 있다는 점이다. 답이 있는 것이 아니기에 내가 설정한 목표가 맞는지, 제대로 살아가는지에 대한 불안이 자연스레 생긴다. 자유는 능동성을 낳기도 하지만 불안을 낳기도 한다. 이에 대한 가장 쉬운 대처 방법은 사회가, 타인이 제시하는 목표들을 끌어와 자신의 목표로 삼는 것이다. 하지만 이것은 미봉책일 뿐만 아니라, 그 목표가 자신의 능동성에 기인한 것이 아닌 이상 왜 해야 하는지에 대한 문제가 나타날 수 있고, 이어서 성취감도 느낄 수 없을 것이다. 그럼 어떻게 해야 하는가? 나는 삶의 목적을 설정하는 것이 중요하다고 생각한다. 구체적인 목표가 아닌 거시적 방향성인 목적이다. 목적을 세우면 그 방향성으로 목표들을 설정하며 나아갈 수 있다. 방향성이 정해졌기에 자유는 불안보다는 능동성의 형태로 발현될 것이다. 그럼 목적은 어떻게 설정해야 하는가라는 의문이 자연스레 떠오를 것이다. 이때 가치의 판단이 필요하다. 개인의 가치 설정. 이를 통해 자신만의 핵심가치를 찾아보아야 한다.\""
      ]
     },
     "execution_count": 39,
     "metadata": {},
     "output_type": "execute_result"
    }
   ],
   "source": [
    "df_preprocessed['context'][15]"
   ]
  },
  {
   "cell_type": "code",
   "execution_count": 46,
   "id": "31181432",
   "metadata": {},
   "outputs": [],
   "source": [
    "df_preprocessed.to_csv('./data/df_preprocessed.csv', index=False)"
   ]
  },
  {
   "cell_type": "code",
   "execution_count": 43,
   "id": "5c8bfa51",
   "metadata": {},
   "outputs": [],
   "source": [
    "# 제목이 겹치는 데이터 확인"
   ]
  },
  {
   "cell_type": "code",
   "execution_count": 40,
   "id": "316e6561",
   "metadata": {},
   "outputs": [],
   "source": [
    "df_title = df_brunch.sort_values('title')"
   ]
  },
  {
   "cell_type": "code",
   "execution_count": 41,
   "id": "aa1c5e87",
   "metadata": {},
   "outputs": [],
   "source": [
    "df_title.dropna(inplace=True)"
   ]
  },
  {
   "cell_type": "code",
   "execution_count": 44,
   "id": "44eedfa9",
   "metadata": {},
   "outputs": [],
   "source": [
    "title_dict = {}\n",
    "\n",
    "for idx, title in enumerate(df_title.sort_values('title').title):\n",
    "    title = re.sub(r'[^ |가-힣]+', '', title).strip()\n",
    "    if title not in title_dict:\n",
    "        title_dict[title] = df_title[df_title['title'].str.contains(title)]"
   ]
  },
  {
   "cell_type": "code",
   "execution_count": 45,
   "id": "24e4d809",
   "metadata": {},
   "outputs": [
    {
     "data": {
      "text/html": [
       "<div>\n",
       "<style scoped>\n",
       "    .dataframe tbody tr th:only-of-type {\n",
       "        vertical-align: middle;\n",
       "    }\n",
       "\n",
       "    .dataframe tbody tr th {\n",
       "        vertical-align: top;\n",
       "    }\n",
       "\n",
       "    .dataframe thead th {\n",
       "        text-align: right;\n",
       "    }\n",
       "</style>\n",
       "<table border=\"1\" class=\"dataframe\">\n",
       "  <thead>\n",
       "    <tr style=\"text-align: right;\">\n",
       "      <th></th>\n",
       "      <th>title</th>\n",
       "      <th>context</th>\n",
       "    </tr>\n",
       "  </thead>\n",
       "  <tbody>\n",
       "    <tr>\n",
       "      <th>462</th>\n",
       "      <td>이모</td>\n",
       "      <td>&lt;따스한 그 곳은&gt;  니은 \\n\\n\\n 큰 이모가 허연 수박껍데기를 대문 밖에다 내...</td>\n",
       "    </tr>\n",
       "    <tr>\n",
       "      <th>666</th>\n",
       "      <td>\"이모, 우리 비밀 이야기하자\"</td>\n",
       "      <td>며칠 전 다섯 살 조카 대추의 집에 놀러 갔을 때 일이다. 텔레비전을 보는 둥 마는...</td>\n",
       "    </tr>\n",
       "    <tr>\n",
       "      <th>15025</th>\n",
       "      <td>100번째 이모티콘 제안</td>\n",
       "      <td>이모티콘을 다시 그린 지 딱 세 달이 됐다. 세 달 동안 그린 것들 중 일부는 승인...</td>\n",
       "    </tr>\n",
       "    <tr>\n",
       "      <th>16445</th>\n",
       "      <td>2. 막내 이모가 양념게장을 담그지 못한 이유</td>\n",
       "      <td>엄마는 위로 오빠 셋에 언니 둘, 아래로 여동생 둘을 둔 8남매 중 여섯째다....</td>\n",
       "    </tr>\n",
       "    <tr>\n",
       "      <th>20865</th>\n",
       "      <td>구리 이모네 곱창</td>\n",
       "      <td>불현듯 지나간 추억과 장소, 소중했던 그 사람을 떠올리게 하는 향수나 음악처럼, 음...</td>\n",
       "    </tr>\n",
       "    <tr>\n",
       "      <th>2207</th>\n",
       "      <td>막내 이모의 방</td>\n",
       "      <td>엄마의 막내 여동생, 어린 내 눈에 유일하게 고유의 인격체를 가진 듯 보였던 여자....</td>\n",
       "    </tr>\n",
       "    <tr>\n",
       "      <th>11975</th>\n",
       "      <td>물방이모여 시내를 이루듯이.</td>\n",
       "      <td>먹줄도 꾸준히 톱 삼아 쓰면 나무를 베고, 물방울도 오래도록 떨어지면 돌을 뚫는 법...</td>\n",
       "    </tr>\n",
       "    <tr>\n",
       "      <th>2390</th>\n",
       "      <td>분식집 이모의 고민</td>\n",
       "      <td>대학교 시절, 학교 정문 앞에 작은 분식집이 있었다. 순살 닭튀김, 김말이 튀김, ...</td>\n",
       "    </tr>\n",
       "    <tr>\n",
       "      <th>285</th>\n",
       "      <td>뽀뇨 이모</td>\n",
       "      <td>나의 또 다른 이름은 뽀뇨 이모다. 미야자키 하야오의 벼랑 위의 포뇨의 주인공 포...</td>\n",
       "    </tr>\n",
       "    <tr>\n",
       "      <th>667</th>\n",
       "      <td>서울 이모집 더부살이 1년</td>\n",
       "      <td>나는 그때 눈치가 는 것 같다.\\n\\n내가 7살에 학교에 입학을 했으니까, 그보다 ...</td>\n",
       "    </tr>\n",
       "    <tr>\n",
       "      <th>2883</th>\n",
       "      <td>시현이 이모, 좀 짭짤해요?</td>\n",
       "      <td>\"시현이 이모 좀 짭짤해요?\"\\n\\n 어제 마감 직전, 단골 세무사님께서 필라테스 ...</td>\n",
       "    </tr>\n",
       "    <tr>\n",
       "      <th>2026</th>\n",
       "      <td>엄마 아니고 이모 맞네</td>\n",
       "      <td>가족의 생일을 잊었다\\n\\n\"아! 우리 과 서무가 그러는데 내일이 내 생일이래\"\\n...</td>\n",
       "    </tr>\n",
       "    <tr>\n",
       "      <th>2098</th>\n",
       "      <td>옥이 이모</td>\n",
       "      <td>가로수에 새순이 돋아 운전하는 내내 눈이 즐겁다. 살랑살랑 부는 봄바람에 초록 ...</td>\n",
       "    </tr>\n",
       "    <tr>\n",
       "      <th>360</th>\n",
       "      <td>외삼촌과 이모부 관련 별식</td>\n",
       "      <td>같은 세대 다른 분 대비 월등히 장신이며 한 분 밖에 안 계신 외삼촌은 겨울밤 늦은...</td>\n",
       "    </tr>\n",
       "    <tr>\n",
       "      <th>10804</th>\n",
       "      <td>이모</td>\n",
       "      <td>내게는 세명의 이모가 있다. 첫 조카였던 나는 이모들에게 귀여움을 독차지했다. 특히...</td>\n",
       "    </tr>\n",
       "    <tr>\n",
       "      <th>17690</th>\n",
       "      <td>이모 내 옷도 샀어요?</td>\n",
       "      <td>퇴근후 나보다 일곱살이 더 많은 친한 언니랑 같이 재래시장엘 들렀다.  이 언니가 ...</td>\n",
       "    </tr>\n",
       "    <tr>\n",
       "      <th>10932</th>\n",
       "      <td>이모의 자몽</td>\n",
       "      <td>내 하나뿐인 이모는 서울 토박이다. 이모부가 지방에 파견 가 대구에서만 몇 년 지...</td>\n",
       "    </tr>\n",
       "    <tr>\n",
       "      <th>98</th>\n",
       "      <td>이모의 첫사랑</td>\n",
       "      <td>아침마다 카톡 알람이 울리고 이모의 편지가 도착한다. 혼자 계시는 이모에게 숙제를 ...</td>\n",
       "    </tr>\n",
       "    <tr>\n",
       "      <th>1674</th>\n",
       "      <td>조선소 노동자, 우리 이모</td>\n",
       "      <td>초등학교 2학년 여름방학, 동생과 나는 충남 청양에 있는 이모 집에 맡겨졌다. 당시...</td>\n",
       "    </tr>\n",
       "    <tr>\n",
       "      <th>3550</th>\n",
       "      <td>직장인은 이모티콘으로 표현합니다</td>\n",
       "      <td>9시가 되면 업무가 본격적으로 시작하는 시간이라 손가락이 제일 바쁠 시간입니다.\\n...</td>\n",
       "    </tr>\n",
       "    <tr>\n",
       "      <th>1229</th>\n",
       "      <td>출간 후 이모저모</td>\n",
       "      <td>어제 옆 부서 직원이 오전에 사내 메신저를 보냈다. 평소에 연락하고 지내는 사이가 ...</td>\n",
       "    </tr>\n",
       "    <tr>\n",
       "      <th>945</th>\n",
       "      <td>호비를 들고 안기는 뚜뚜, 이모 좋아해요. :)</td>\n",
       "      <td>캥거루족이라고 선포를 하니, 엄마 품에 안겨 자율성과 독자성 없이 삶을 살고 있는 ...</td>\n",
       "    </tr>\n",
       "  </tbody>\n",
       "</table>\n",
       "</div>"
      ],
      "text/plain": [
       "                            title  \\\n",
       "462                            이모   \n",
       "666             \"이모, 우리 비밀 이야기하자\"   \n",
       "15025               100번째 이모티콘 제안   \n",
       "16445   2. 막내 이모가 양념게장을 담그지 못한 이유   \n",
       "20865                   구리 이모네 곱창   \n",
       "2207                     막내 이모의 방   \n",
       "11975             물방이모여 시내를 이루듯이.   \n",
       "2390                   분식집 이모의 고민   \n",
       "285                         뽀뇨 이모   \n",
       "667                서울 이모집 더부살이 1년   \n",
       "2883              시현이 이모, 좀 짭짤해요?   \n",
       "2026                 엄마 아니고 이모 맞네   \n",
       "2098                        옥이 이모   \n",
       "360             외삼촌과 이모부 관련 별식      \n",
       "10804                          이모   \n",
       "17690                이모 내 옷도 샀어요?   \n",
       "10932                      이모의 자몽   \n",
       "98                        이모의 첫사랑   \n",
       "1674               조선소 노동자, 우리 이모   \n",
       "3550            직장인은 이모티콘으로 표현합니다   \n",
       "1229                    출간 후 이모저모   \n",
       "945    호비를 들고 안기는 뚜뚜, 이모 좋아해요. :)   \n",
       "\n",
       "                                                 context  \n",
       "462    <따스한 그 곳은>  니은 \\n\\n\\n 큰 이모가 허연 수박껍데기를 대문 밖에다 내...  \n",
       "666    며칠 전 다섯 살 조카 대추의 집에 놀러 갔을 때 일이다. 텔레비전을 보는 둥 마는...  \n",
       "15025  이모티콘을 다시 그린 지 딱 세 달이 됐다. 세 달 동안 그린 것들 중 일부는 승인...  \n",
       "16445     엄마는 위로 오빠 셋에 언니 둘, 아래로 여동생 둘을 둔 8남매 중 여섯째다....  \n",
       "20865  불현듯 지나간 추억과 장소, 소중했던 그 사람을 떠올리게 하는 향수나 음악처럼, 음...  \n",
       "2207   엄마의 막내 여동생, 어린 내 눈에 유일하게 고유의 인격체를 가진 듯 보였던 여자....  \n",
       "11975  먹줄도 꾸준히 톱 삼아 쓰면 나무를 베고, 물방울도 오래도록 떨어지면 돌을 뚫는 법...  \n",
       "2390   대학교 시절, 학교 정문 앞에 작은 분식집이 있었다. 순살 닭튀김, 김말이 튀김, ...  \n",
       "285     나의 또 다른 이름은 뽀뇨 이모다. 미야자키 하야오의 벼랑 위의 포뇨의 주인공 포...  \n",
       "667    나는 그때 눈치가 는 것 같다.\\n\\n내가 7살에 학교에 입학을 했으니까, 그보다 ...  \n",
       "2883   \"시현이 이모 좀 짭짤해요?\"\\n\\n 어제 마감 직전, 단골 세무사님께서 필라테스 ...  \n",
       "2026   가족의 생일을 잊었다\\n\\n\"아! 우리 과 서무가 그러는데 내일이 내 생일이래\"\\n...  \n",
       "2098     가로수에 새순이 돋아 운전하는 내내 눈이 즐겁다. 살랑살랑 부는 봄바람에 초록 ...  \n",
       "360    같은 세대 다른 분 대비 월등히 장신이며 한 분 밖에 안 계신 외삼촌은 겨울밤 늦은...  \n",
       "10804  내게는 세명의 이모가 있다. 첫 조카였던 나는 이모들에게 귀여움을 독차지했다. 특히...  \n",
       "17690  퇴근후 나보다 일곱살이 더 많은 친한 언니랑 같이 재래시장엘 들렀다.  이 언니가 ...  \n",
       "10932   내 하나뿐인 이모는 서울 토박이다. 이모부가 지방에 파견 가 대구에서만 몇 년 지...  \n",
       "98     아침마다 카톡 알람이 울리고 이모의 편지가 도착한다. 혼자 계시는 이모에게 숙제를 ...  \n",
       "1674   초등학교 2학년 여름방학, 동생과 나는 충남 청양에 있는 이모 집에 맡겨졌다. 당시...  \n",
       "3550   9시가 되면 업무가 본격적으로 시작하는 시간이라 손가락이 제일 바쁠 시간입니다.\\n...  \n",
       "1229   어제 옆 부서 직원이 오전에 사내 메신저를 보냈다. 평소에 연락하고 지내는 사이가 ...  \n",
       "945    캥거루족이라고 선포를 하니, 엄마 품에 안겨 자율성과 독자성 없이 삶을 살고 있는 ...  "
      ]
     },
     "execution_count": 45,
     "metadata": {},
     "output_type": "execute_result"
    }
   ],
   "source": [
    "with open('./data/title_dict.pickle', 'wb') as f:\n",
    "    pickle.dump(title_dict, f)\n",
    "\n",
    "with open('./data/title_dict.pickle', 'rb') as f:\n",
    "    test = pickle.load(f)\n",
    "\n",
    "test['이모']"
   ]
  }
 ],
 "metadata": {
  "kernelspec": {
   "display_name": "bookathon",
   "language": "python",
   "name": "bookathon"
  },
  "language_info": {
   "codemirror_mode": {
    "name": "ipython",
    "version": 3
   },
   "file_extension": ".py",
   "mimetype": "text/x-python",
   "name": "python",
   "nbconvert_exporter": "python",
   "pygments_lexer": "ipython3",
   "version": "3.9.7"
  }
 },
 "nbformat": 4,
 "nbformat_minor": 5
}
