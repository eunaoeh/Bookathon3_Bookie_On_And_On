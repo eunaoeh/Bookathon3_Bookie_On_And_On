{
 "cells": [
  {
   "cell_type": "code",
   "execution_count": 1,
   "id": "24a05207",
   "metadata": {
    "ExecuteTime": {
     "end_time": "2021-11-15T13:00:31.826419Z",
     "start_time": "2021-11-15T13:00:31.315272Z"
    }
   },
   "outputs": [],
   "source": [
    "import pandas as pd\n",
    "\n",
    "lst = []"
   ]
  },
  {
   "cell_type": "code",
   "execution_count": 2,
   "id": "1edc2c4b",
   "metadata": {
    "ExecuteTime": {
     "end_time": "2021-11-15T13:00:34.345442Z",
     "start_time": "2021-11-15T13:00:32.274053Z"
    },
    "scrolled": true
   },
   "outputs": [
    {
     "name": "stderr",
     "output_type": "stream",
     "text": [
      "<ipython-input-2-99b1ad0f8353>:2: DeprecationWarning: executable_path has been deprecated, please pass in a Service object\n",
      "  driver = webdriver.Chrome('../chromedriver.exe')\n"
     ]
    }
   ],
   "source": [
    "from selenium import webdriver\n",
    "driver = webdriver.Chrome('../chromedriver.exe')"
   ]
  },
  {
   "cell_type": "code",
   "execution_count": 3,
   "id": "c92296dc",
   "metadata": {
    "ExecuteTime": {
     "end_time": "2021-11-15T13:00:35.908241Z",
     "start_time": "2021-11-15T13:00:34.412242Z"
    }
   },
   "outputs": [],
   "source": [
    "URL = 'https://brunch.co.kr'\n",
    "driver.get(url=URL)"
   ]
  },
  {
   "cell_type": "code",
   "execution_count": 7,
   "id": "bc23911a",
   "metadata": {
    "ExecuteTime": {
     "end_time": "2021-11-15T13:01:43.040659Z",
     "start_time": "2021-11-15T13:01:08.256163Z"
    }
   },
   "outputs": [
    {
     "name": "stderr",
     "output_type": "stream",
     "text": [
      "<ipython-input-7-7bfd1cbf8cb3>:5: DeprecationWarning: find_element_by_* commands are deprecated. Please use find_element() instead\n",
      "  element = driver.find_element_by_xpath('/html/body/div[3]/div[1]/div[2]/div[1]').text\n",
      "<ipython-input-7-7bfd1cbf8cb3>:7: DeprecationWarning: find_element_by_* commands are deprecated. Please use find_element() instead\n",
      "  e = driver.find_element_by_xpath('/html/body/div[3]/div[6]/a[2]')\n"
     ]
    }
   ],
   "source": [
    "from selenium.webdriver.common.keys import Keys\n",
    "\n",
    "for i in range(54):\n",
    "    driver.implicitly_wait(time_to_wait=5)\n",
    "    element = driver.find_element_by_xpath('/html/body/div[3]/div[1]/div[2]/div[1]').text\n",
    "    lst.append(element)\n",
    "    e = driver.find_element_by_xpath('/html/body/div[3]/div[6]/a[2]')\n",
    "    driver.execute_script(\"arguments[0].click();\", e)\n"
   ]
  },
  {
   "cell_type": "code",
   "execution_count": 8,
   "id": "b7cb44f5",
   "metadata": {
    "ExecuteTime": {
     "end_time": "2021-11-15T13:01:53.815907Z",
     "start_time": "2021-11-15T13:01:53.800948Z"
    }
   },
   "outputs": [],
   "source": [
    "list_df = pd.DataFrame(lst)"
   ]
  },
  {
   "cell_type": "code",
   "execution_count": 10,
   "id": "328b44cf",
   "metadata": {
    "ExecuteTime": {
     "end_time": "2021-11-15T13:02:08.211579Z",
     "start_time": "2021-11-15T13:02:08.187057Z"
    }
   },
   "outputs": [],
   "source": [
    "list_df.to_csv(\"output.csv\", mode='w')"
   ]
  },
  {
   "cell_type": "code",
   "execution_count": 11,
   "id": "099d7ac8",
   "metadata": {
    "ExecuteTime": {
     "end_time": "2021-11-15T13:02:13.246624Z",
     "start_time": "2021-11-15T13:02:09.097700Z"
    },
    "scrolled": true
   },
   "outputs": [],
   "source": [
    "driver.close()"
   ]
  }
 ],
 "metadata": {
  "kernelspec": {
   "display_name": "Python 3",
   "language": "python",
   "name": "python3"
  },
  "language_info": {
   "codemirror_mode": {
    "name": "ipython",
    "version": 3
   },
   "file_extension": ".py",
   "mimetype": "text/x-python",
   "name": "python",
   "nbconvert_exporter": "python",
   "pygments_lexer": "ipython3",
   "version": "3.8.8"
  },
  "toc": {
   "base_numbering": 1,
   "nav_menu": {},
   "number_sections": true,
   "sideBar": true,
   "skip_h1_title": false,
   "title_cell": "Table of Contents",
   "title_sidebar": "Contents",
   "toc_cell": false,
   "toc_position": {},
   "toc_section_display": true,
   "toc_window_display": false
  },
  "varInspector": {
   "cols": {
    "lenName": 16,
    "lenType": 16,
    "lenVar": 40
   },
   "kernels_config": {
    "python": {
     "delete_cmd_postfix": "",
     "delete_cmd_prefix": "del ",
     "library": "var_list.py",
     "varRefreshCmd": "print(var_dic_list())"
    },
    "r": {
     "delete_cmd_postfix": ") ",
     "delete_cmd_prefix": "rm(",
     "library": "var_list.r",
     "varRefreshCmd": "cat(var_dic_list()) "
    }
   },
   "types_to_exclude": [
    "module",
    "function",
    "builtin_function_or_method",
    "instance",
    "_Feature"
   ],
   "window_display": false
  }
 },
 "nbformat": 4,
 "nbformat_minor": 5
}
